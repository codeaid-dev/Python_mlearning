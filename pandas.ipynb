{
 "cells": [
  {
   "cell_type": "code",
   "execution_count": null,
   "id": "696555b0",
   "metadata": {},
   "outputs": [],
   "source": [
    "import pandas as pd\n",
    "\n",
    "s1 = pd.Series([37,74,58])\n",
    "print(s1)\n",
    "s2 = pd.Series({'a':37,'b':74,'c':58})\n",
    "print(s2)"
   ]
  },
  {
   "cell_type": "code",
   "execution_count": null,
   "id": "90fef662",
   "metadata": {},
   "outputs": [],
   "source": [
    "df = pd.DataFrame({\n",
    "    'A_col':[37,74,58],\n",
    "    'B_col':[26,31,48],\n",
    "    'C_col':[83,56,29]\n",
    "})\n",
    "print(df)"
   ]
  },
  {
   "cell_type": "code",
   "execution_count": null,
   "id": "d2a40751",
   "metadata": {},
   "outputs": [],
   "source": [
    "df = pd.DataFrame({\n",
    "    '名前': ['田中', '佐藤', '鈴木'],\n",
    "    '年齢': [25, 30, 22]\n",
    "})\n",
    "print(df)"
   ]
  },
  {
   "cell_type": "code",
   "execution_count": null,
   "id": "eafdf62d",
   "metadata": {},
   "outputs": [],
   "source": [
    "print(df.shape)\n",
    "print()\n",
    "print(df.columns)\n",
    "print()\n",
    "print(df.info())\n",
    "print()\n",
    "print(df.describe())"
   ]
  },
  {
   "cell_type": "code",
   "execution_count": null,
   "id": "e9599e85",
   "metadata": {},
   "outputs": [],
   "source": [
    "print(df['年齢'])         # 年齢列を取得（Series型）\n",
    "print()\n",
    "print(df[['名前', '年齢']])  # 複数列の取得（DataFrame型）\n",
    "print()\n",
    "print(df['年齢'] + 1)     # 年齢に1を加算\n",
    "#df['年齢'] = df['年齢'] + 1 # すべての「年齢」列を一括で＋1"
   ]
  },
  {
   "cell_type": "code",
   "execution_count": null,
   "id": "e079d9bc",
   "metadata": {},
   "outputs": [],
   "source": [
    "print(df.loc[0])          # ラベルでアクセス（行の0番目）\n",
    "print(df.iloc[1])         # インデックスでアクセス（行の1番目）\n",
    "print(df[df['年齢'] > 23])  # 条件フィルター（年齢が23より大きい行）"
   ]
  },
  {
   "cell_type": "code",
   "execution_count": null,
   "id": "7ebea42e",
   "metadata": {},
   "outputs": [],
   "source": [
    "# 列の追加\n",
    "df['出身地'] = ['東京', '大阪', '北海道']\n",
    "print(df)"
   ]
  },
  {
   "cell_type": "code",
   "execution_count": null,
   "id": "93cf91bb",
   "metadata": {},
   "outputs": [],
   "source": [
    "# 行の追加\n",
    "df.loc[3] = ['高橋', 28, '福岡']\n",
    "print(df)"
   ]
  },
  {
   "cell_type": "code",
   "execution_count": null,
   "id": "8f712200",
   "metadata": {},
   "outputs": [],
   "source": [
    "# 行の削除\n",
    "df = df.drop(1)  # インデックス1の行を削除\n",
    "print(df)"
   ]
  },
  {
   "cell_type": "code",
   "execution_count": null,
   "id": "b7fc3ca4",
   "metadata": {},
   "outputs": [],
   "source": [
    "df.loc[1] = ['佐藤', 30, None]\n",
    "print(df)"
   ]
  },
  {
   "cell_type": "code",
   "execution_count": null,
   "id": "42c8978f",
   "metadata": {},
   "outputs": [],
   "source": [
    "# 新しい列を追加（すべて同じ値）\n",
    "df['国籍'] = '日本'\n",
    "print(df)"
   ]
  },
  {
   "cell_type": "code",
   "execution_count": null,
   "id": "de6a6e5a",
   "metadata": {},
   "outputs": [],
   "source": [
    "# 他の列を元に新しい列を作成\n",
    "df['年齢+10'] = df['年齢'] + 10\n",
    "print(df)\n",
    "# 列の削除\n",
    "df = df.drop(columns=['年齢+10'])\n",
    "print(df)"
   ]
  },
  {
   "cell_type": "code",
   "execution_count": null,
   "id": "ead9b785",
   "metadata": {},
   "outputs": [],
   "source": [
    "print(df.isnull())          # 欠損値の場所をTrue/Falseで返す\n",
    "print(df.isnull().sum())    # 列ごとの欠損値の数\n",
    "print(df.dropna())          # 欠損値を含む行を削除\n",
    "print(df.fillna(0))         # 欠損値を0で埋める"
   ]
  },
  {
   "cell_type": "code",
   "execution_count": null,
   "id": "9f785ef7",
   "metadata": {},
   "outputs": [],
   "source": [
    "print(df.sort_values('年齢'))         # 昇順\n",
    "print(df.sort_values('年齢', ascending=False))  # 降順"
   ]
  },
  {
   "cell_type": "code",
   "execution_count": null,
   "id": "e8ebf9b8",
   "metadata": {},
   "outputs": [],
   "source": [
    "df.loc[1, '出身地'] = '東京'    # インデックス1(佐藤)の出身地を東京に変更\n",
    "#df.iloc[1, 2] = '東京'  # インデックス番号で指定\n",
    "#df.loc[[1, 2], '出身地'] = ['東京', '大阪']  # 行1と2の出身地を一括で変更\n",
    "df.groupby('出身地')['年齢'].mean()  # 出身地ごとの平均年齢"
   ]
  },
  {
   "cell_type": "code",
   "execution_count": null,
   "id": "191ec194",
   "metadata": {},
   "outputs": [],
   "source": [
    "# 条件を満たす行を抽出\n",
    "print(df[df['年齢'] >= 25])\n",
    "\n",
    "# 条件を満たすデータに値を代入\n",
    "df.loc[df['名前'] == '田中', '年齢'] = 99\n",
    "print(df)"
   ]
  },
  {
   "cell_type": "code",
   "execution_count": null,
   "id": "ef3cc8d6",
   "metadata": {},
   "outputs": [],
   "source": [
    "df.loc[4] = ['田中', 99, '東京', '日本']\n",
    "print(df)\n",
    "# 重複行の削除\n",
    "df2 = df.drop_duplicates()\n",
    "print(df2)\n",
    "# 列ごとに重複削除\n",
    "df3 = df.drop_duplicates(subset='名前')\n",
    "print(df3)\n"
   ]
  },
  {
   "cell_type": "code",
   "execution_count": 1,
   "id": "03cb3619",
   "metadata": {},
   "outputs": [
    {
     "name": "stdout",
     "output_type": "stream",
     "text": [
      "   顧客ID  名前\n",
      "0     1  田中\n",
      "1     2  佐藤\n",
      "2     3  鈴木\n",
      "   顧客ID  注文数\n",
      "0     1    5\n",
      "1     2    3\n",
      "2     4    8\n",
      "   顧客ID  名前  注文数\n",
      "0     1  田中    5\n",
      "1     2  佐藤    3\n"
     ]
    }
   ],
   "source": [
    "import pandas as pd\n",
    "# 顧客情報\n",
    "df1 = pd.DataFrame({\n",
    "    '顧客ID': [1, 2, 3],\n",
    "    '名前': ['田中', '佐藤', '鈴木']\n",
    "})\n",
    "print(df1)\n",
    "\n",
    "# 注文情報\n",
    "df2 = pd.DataFrame({\n",
    "    '顧客ID': [1, 2, 4],\n",
    "    '注文数': [5, 3, 8]\n",
    "})\n",
    "print(df2)\n",
    "\n",
    "# 内部結合（共通の顧客IDのみ）\n",
    "merged = pd.merge(df1, df2, on='顧客ID', how='inner')\n",
    "print(merged)"
   ]
  },
  {
   "cell_type": "code",
   "execution_count": 2,
   "id": "76001bae",
   "metadata": {},
   "outputs": [
    {
     "name": "stdout",
     "output_type": "stream",
     "text": [
      "   名前  年齢\n",
      "0  田中  23\n",
      "1  佐藤  30\n",
      "2  鈴木  28\n",
      "3  高橋  35\n"
     ]
    }
   ],
   "source": [
    "import pandas as pd\n",
    "\n",
    "df1 = pd.DataFrame({\n",
    "    '名前': ['田中', '佐藤'],\n",
    "    '年齢': [23, 30]\n",
    "})\n",
    "\n",
    "df2 = pd.DataFrame({\n",
    "    '名前': ['鈴木', '高橋'],\n",
    "    '年齢': [28, 35]\n",
    "})\n",
    "\n",
    "# 縦に結合（行が増える）\n",
    "df_concat = pd.concat([df1, df2], axis=0, ignore_index=True)\n",
    "\n",
    "print(df_concat)"
   ]
  },
  {
   "cell_type": "code",
   "execution_count": 3,
   "id": "c670a93f",
   "metadata": {},
   "outputs": [
    {
     "name": "stdout",
     "output_type": "stream",
     "text": [
      "   名前  年齢 出身地 性別\n",
      "0  田中  23  東京  男\n",
      "1  佐藤  30  大阪  女\n"
     ]
    }
   ],
   "source": [
    "df3 = pd.DataFrame({\n",
    "    '名前': ['田中', '佐藤'],\n",
    "    '年齢': [23, 30]\n",
    "})\n",
    "\n",
    "df4 = pd.DataFrame({\n",
    "    '出身地': ['東京', '大阪'],\n",
    "    '性別': ['男', '女']\n",
    "})\n",
    "\n",
    "# 横に結合（列が増える）\n",
    "df_concat = pd.concat([df3, df4], axis=1)\n",
    "\n",
    "print(df_concat)"
   ]
  },
  {
   "cell_type": "code",
   "execution_count": null,
   "id": "2a4c635a",
   "metadata": {},
   "outputs": [],
   "source": [
    "import pandas as pd\n",
    "\n",
    "df = pd.read_csv('weather202407-202507.csv')\n",
    "df.head()"
   ]
  },
  {
   "cell_type": "code",
   "execution_count": null,
   "id": "dc07a7ad",
   "metadata": {},
   "outputs": [],
   "source": [
    "df.tail(3)"
   ]
  },
  {
   "cell_type": "code",
   "execution_count": null,
   "id": "4392be63",
   "metadata": {},
   "outputs": [],
   "source": [
    "print(df.shape)\n",
    "print()\n",
    "print(df.columns)\n",
    "print()\n",
    "print(df.info())\n",
    "print()\n",
    "print(df.describe())"
   ]
  },
  {
   "cell_type": "code",
   "execution_count": null,
   "id": "5446c61a",
   "metadata": {},
   "outputs": [],
   "source": [
    "df['最高気温(℃)']"
   ]
  },
  {
   "cell_type": "code",
   "execution_count": null,
   "id": "2c8b5474",
   "metadata": {},
   "outputs": [],
   "source": [
    "df[['最高気温(℃)', '最低気温(℃)']]"
   ]
  }
 ],
 "metadata": {
  "kernelspec": {
   "display_name": "3.13.2",
   "language": "python",
   "name": "python3"
  },
  "language_info": {
   "codemirror_mode": {
    "name": "ipython",
    "version": 3
   },
   "file_extension": ".py",
   "mimetype": "text/x-python",
   "name": "python",
   "nbconvert_exporter": "python",
   "pygments_lexer": "ipython3",
   "version": "3.13.2"
  }
 },
 "nbformat": 4,
 "nbformat_minor": 5
}
