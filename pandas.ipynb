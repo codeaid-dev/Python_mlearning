{
 "cells": [
  {
   "cell_type": "code",
   "execution_count": null,
   "id": "696555b0",
   "metadata": {},
   "outputs": [],
   "source": [
    "import pandas as pd\n",
    "\n",
    "s1 = pd.Series([37,74,58])\n",
    "print(s1)\n",
    "s2 = pd.Series({'a':37,'b':74,'c':58})\n",
    "print(s2)"
   ]
  },
  {
   "cell_type": "code",
   "execution_count": null,
   "id": "90fef662",
   "metadata": {},
   "outputs": [],
   "source": [
    "df = pd.DataFrame({\n",
    "    'A_col':[37,74,58],\n",
    "    'B_col':[26,31,48],\n",
    "    'C_col':[83,56,29]\n",
    "})\n",
    "print(df)"
   ]
  },
  {
   "cell_type": "code",
   "execution_count": null,
   "id": "d2a40751",
   "metadata": {},
   "outputs": [],
   "source": [
    "df = pd.DataFrame({\n",
    "    '名前': ['田中', '佐藤', '鈴木'],\n",
    "    '年齢': [25, 30, 22]\n",
    "})\n",
    "print(df)"
   ]
  },
  {
   "cell_type": "code",
   "execution_count": null,
   "id": "eafdf62d",
   "metadata": {},
   "outputs": [],
   "source": [
    "print(df.shape)\n",
    "print()\n",
    "print(df.columns)\n",
    "print()\n",
    "print(df.info())\n",
    "print()\n",
    "print(df.describe())"
   ]
  },
  {
   "cell_type": "code",
   "execution_count": null,
   "id": "e9599e85",
   "metadata": {},
   "outputs": [],
   "source": [
    "print(df['年齢'])         # 年齢列を取得（Series型）\n",
    "print()\n",
    "print(df[['名前', '年齢']])  # 複数列の取得（DataFrame型）\n",
    "print()\n",
    "print(df['年齢'] + 1)     # 年齢に1を加算\n",
    "#df['年齢'] = df['年齢'] + 1 # すべての「年齢」列を一括で＋1"
   ]
  },
  {
   "cell_type": "code",
   "execution_count": null,
   "id": "e079d9bc",
   "metadata": {},
   "outputs": [],
   "source": [
    "print(df.loc[0])          # ラベルでアクセス（行の0番目）\n",
    "print(df.iloc[1])         # インデックスでアクセス（行の1番目）\n",
    "print(df[df['年齢'] > 23])  # 条件フィルター（年齢が23より大きい行）"
   ]
  },
  {
   "cell_type": "code",
   "execution_count": null,
   "id": "7ebea42e",
   "metadata": {},
   "outputs": [],
   "source": [
    "# 列の追加\n",
    "df['出身地'] = ['東京', '大阪', '北海道']\n",
    "print(df)"
   ]
  },
  {
   "cell_type": "code",
   "execution_count": null,
   "id": "93cf91bb",
   "metadata": {},
   "outputs": [],
   "source": [
    "# 行の追加\n",
    "df.loc[3] = ['高橋', 28, '福岡']\n",
    "print(df)"
   ]
  },
  {
   "cell_type": "code",
   "execution_count": null,
   "id": "8f712200",
   "metadata": {},
   "outputs": [],
   "source": [
    "# 行の削除\n",
    "df = df.drop(1)  # インデックス1の行を削除\n",
    "print(df)"
   ]
  },
  {
   "cell_type": "code",
   "execution_count": null,
   "id": "b7fc3ca4",
   "metadata": {},
   "outputs": [],
   "source": [
    "df.loc[1] = ['佐藤', 30, None]\n",
    "print(df)"
   ]
  },
  {
   "cell_type": "code",
   "execution_count": null,
   "id": "42c8978f",
   "metadata": {},
   "outputs": [],
   "source": [
    "# 新しい列を追加（すべて同じ値）\n",
    "df['国籍'] = '日本'\n",
    "print(df)"
   ]
  },
  {
   "cell_type": "code",
   "execution_count": null,
   "id": "de6a6e5a",
   "metadata": {},
   "outputs": [],
   "source": [
    "# 他の列を元に新しい列を作成\n",
    "df['年齢+10'] = df['年齢'] + 10\n",
    "print(df)\n",
    "# 列の削除\n",
    "df = df.drop(columns=['年齢+10'])\n",
    "print(df)"
   ]
  },
  {
   "cell_type": "code",
   "execution_count": null,
   "id": "ead9b785",
   "metadata": {},
   "outputs": [],
   "source": [
    "print(df.isnull())          # 欠損値の場所をTrue/Falseで返す\n",
    "print(df.isnull().sum())    # 列ごとの欠損値の数\n",
    "print(df.dropna())          # 欠損値を含む行を削除\n",
    "print(df.fillna(0))         # 欠損値を0で埋める"
   ]
  },
  {
   "cell_type": "code",
   "execution_count": null,
   "id": "9f785ef7",
   "metadata": {},
   "outputs": [],
   "source": [
    "print(df.sort_values('年齢'))         # 昇順\n",
    "print(df.sort_values('年齢', ascending=False))  # 降順"
   ]
  },
  {
   "cell_type": "code",
   "execution_count": null,
   "id": "e8ebf9b8",
   "metadata": {},
   "outputs": [],
   "source": [
    "df.loc[1, '出身地'] = '東京'    # インデックス1(佐藤)の出身地を東京に変更\n",
    "#df.iloc[1, 2] = '東京'  # インデックス番号で指定\n",
    "#df.loc[[1, 2], '出身地'] = ['東京', '大阪']  # 行1と2の出身地を一括で変更\n",
    "df.groupby('出身地')['年齢'].mean()  # 出身地ごとの平均年齢"
   ]
  },
  {
   "cell_type": "code",
   "execution_count": null,
   "id": "191ec194",
   "metadata": {},
   "outputs": [],
   "source": [
    "# 条件を満たす行を抽出\n",
    "print(df[df['年齢'] >= 25])\n",
    "\n",
    "# 条件を満たすデータに値を代入\n",
    "df.loc[df['名前'] == '田中', '年齢'] = 99\n",
    "print(df)"
   ]
  },
  {
   "cell_type": "code",
   "execution_count": null,
   "id": "ef3cc8d6",
   "metadata": {},
   "outputs": [],
   "source": [
    "df.loc[4] = ['田中', 99, '東京', '日本']\n",
    "print(df)\n",
    "# 重複行の削除\n",
    "df2 = df.drop_duplicates()\n",
    "print(df2)\n",
    "# 列ごとに重複削除\n",
    "df3 = df.drop_duplicates(subset='名前')\n",
    "print(df3)\n"
   ]
  },
  {
   "cell_type": "code",
   "execution_count": null,
   "id": "03cb3619",
   "metadata": {},
   "outputs": [],
   "source": [
    "import pandas as pd\n",
    "# 顧客情報\n",
    "df1 = pd.DataFrame({\n",
    "    '顧客ID': [1, 2, 3],\n",
    "    '名前': ['田中', '佐藤', '鈴木']\n",
    "})\n",
    "print(df1)\n",
    "\n",
    "# 注文情報\n",
    "df2 = pd.DataFrame({\n",
    "    '顧客ID': [1, 2, 4],\n",
    "    '注文数': [5, 3, 8]\n",
    "})\n",
    "print(df2)\n",
    "\n",
    "# 内部結合（共通の顧客IDのみ）\n",
    "merged = pd.merge(df1, df2, on='顧客ID', how='inner')\n",
    "print(merged)"
   ]
  },
  {
   "cell_type": "code",
   "execution_count": null,
   "id": "76001bae",
   "metadata": {},
   "outputs": [],
   "source": [
    "import pandas as pd\n",
    "\n",
    "df1 = pd.DataFrame({\n",
    "    '名前': ['田中', '佐藤'],\n",
    "    '年齢': [23, 30]\n",
    "})\n",
    "\n",
    "df2 = pd.DataFrame({\n",
    "    '名前': ['鈴木', '高橋'],\n",
    "    '年齢': [28, 35]\n",
    "})\n",
    "\n",
    "# 縦に結合（行が増える）\n",
    "df_concat = pd.concat([df1, df2], axis=0, ignore_index=True)\n",
    "\n",
    "print(df_concat)"
   ]
  },
  {
   "cell_type": "code",
   "execution_count": null,
   "id": "c670a93f",
   "metadata": {},
   "outputs": [],
   "source": [
    "df3 = pd.DataFrame({\n",
    "    '名前': ['田中', '佐藤'],\n",
    "    '年齢': [23, 30]\n",
    "})\n",
    "\n",
    "df4 = pd.DataFrame({\n",
    "    '出身地': ['東京', '大阪'],\n",
    "    '性別': ['男', '女']\n",
    "})\n",
    "\n",
    "# 横に結合（列が増える）\n",
    "df_concat = pd.concat([df3, df4], axis=1)\n",
    "\n",
    "print(df_concat)"
   ]
  },
  {
   "cell_type": "code",
   "execution_count": null,
   "id": "de47091d",
   "metadata": {},
   "outputs": [],
   "source": [
    "import pandas as pd\n",
    "df = pd.DataFrame({\n",
    "    '出身地': ['東京', '東京', '大阪', '大阪', '福岡'],\n",
    "    '性別': ['男', '女', '男', '女', '男'],\n",
    "    '年齢': [30, 25, 22, 35, 28]\n",
    "})\n",
    "\n",
    "pivot = pd.pivot_table(df, values='年齢', index='出身地', columns='性別', aggfunc='mean')\n",
    "print(pivot)"
   ]
  },
  {
   "cell_type": "code",
   "execution_count": null,
   "id": "0a502c66",
   "metadata": {},
   "outputs": [],
   "source": [
    "import pandas as pd\n",
    "# 日時を datetime に変換\n",
    "df = pd.DataFrame({\n",
    "    '日付': ['2025-01-01', '2025-01-02', '2025-01-03', '2025-02-01', '2025-02-03', '2025-03-03'],\n",
    "    '売上': [100, 150, 200, 300, 400, 150]\n",
    "})\n",
    "\n",
    "df['日付'] = pd.to_datetime(df['日付'])"
   ]
  },
  {
   "cell_type": "code",
   "execution_count": null,
   "id": "ba394223",
   "metadata": {},
   "outputs": [],
   "source": [
    "# インデックスに日時を設定\n",
    "df.set_index('日付', inplace=True)"
   ]
  },
  {
   "cell_type": "code",
   "execution_count": null,
   "id": "9069c085",
   "metadata": {},
   "outputs": [],
   "source": [
    "# 月ごとの合計売上(リサンプリング)\n",
    "monthly = df.resample('ME').sum()\n",
    "# monthly = df.resample('YE').sum()\n",
    "print(monthly)"
   ]
  },
  {
   "cell_type": "code",
   "execution_count": null,
   "id": "b9d83726",
   "metadata": {},
   "outputs": [],
   "source": [
    "# 2025年2月以降のデータだけを抽出\n",
    "print(df[df.index >= '2025-02-01'])"
   ]
  },
  {
   "cell_type": "code",
   "execution_count": null,
   "id": "2a4c635a",
   "metadata": {},
   "outputs": [],
   "source": [
    "import pandas as pd\n",
    "\n",
    "df = pd.read_csv('weather202407-202507.csv')\n",
    "df.head()"
   ]
  },
  {
   "cell_type": "code",
   "execution_count": null,
   "id": "dc07a7ad",
   "metadata": {},
   "outputs": [],
   "source": [
    "df.tail(3)"
   ]
  },
  {
   "cell_type": "code",
   "execution_count": null,
   "id": "4392be63",
   "metadata": {},
   "outputs": [],
   "source": [
    "print(df.shape)\n",
    "print()\n",
    "print(df.columns)\n",
    "print()\n",
    "print(df.info())\n",
    "print()\n",
    "print(df.describe())"
   ]
  },
  {
   "cell_type": "code",
   "execution_count": null,
   "id": "5446c61a",
   "metadata": {},
   "outputs": [],
   "source": [
    "df['最高気温(℃)']"
   ]
  },
  {
   "cell_type": "code",
   "execution_count": null,
   "id": "2c8b5474",
   "metadata": {},
   "outputs": [],
   "source": [
    "df[['最高気温(℃)', '最低気温(℃)']]"
   ]
  }
 ],
 "metadata": {
  "kernelspec": {
   "display_name": "3.13.2",
   "language": "python",
   "name": "python3"
  },
  "language_info": {
   "codemirror_mode": {
    "name": "ipython",
    "version": 3
   },
   "file_extension": ".py",
   "mimetype": "text/x-python",
   "name": "python",
   "nbconvert_exporter": "python",
   "pygments_lexer": "ipython3",
   "version": "3.13.2"
  }
 },
 "nbformat": 4,
 "nbformat_minor": 5
}
