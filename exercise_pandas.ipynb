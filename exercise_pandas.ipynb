{
 "cells": [
  {
   "cell_type": "code",
   "execution_count": null,
   "metadata": {},
   "outputs": [],
   "source": [
    "\n",
    "#Exercise1\n",
    "import pandas as pd\n",
    "data = {'Aのスコア':[78,85,96,80,86],'Bのスコア':[84,94,89,83,86],'Cのスコア':[86,97,96,72,83]}\n",
    "df = pd.DataFrame(data)\n",
    "print(df)"
   ]
  },
  {
   "cell_type": "code",
   "execution_count": null,
   "metadata": {},
   "outputs": [],
   "source": [
    "#Exercise2\n",
    "print(df.head(3))\n",
    "print(df.tail(3))\n",
    "print(df.shape)"
   ]
  },
  {
   "cell_type": "code",
   "execution_count": null,
   "metadata": {},
   "outputs": [],
   "source": [
    "#Exercise3\n",
    "df.columns = ['Aの得点','Bの得点','Cの得点']\n",
    "df.index = ['PHP','C++','Python','Java','JavaScript']\n",
    "print(df)"
   ]
  },
  {
   "cell_type": "code",
   "execution_count": null,
   "metadata": {},
   "outputs": [],
   "source": [
    "#Exercise4\n",
    "import pandas as pd\n",
    "data = {\n",
    "    '名前':['はなこ','たろう','じろう','ひろし','みゆき'],\n",
    "    '訪問回数':[1, 5, 3, 3, 2],\n",
    "    'スコア':[12.5, None, 16.5, 9, None]\n",
    "}\n",
    "labels = ['a','b','c','d','e']\n",
    "df = pd.DataFrame(data, index=labels)\n",
    "print(df)"
   ]
  },
  {
   "cell_type": "code",
   "execution_count": null,
   "metadata": {},
   "outputs": [],
   "source": [
    "#Exercise5\n",
    "col = ['名前','スコア']\n",
    "print(df[col])"
   ]
  },
  {
   "cell_type": "code",
   "execution_count": null,
   "metadata": {},
   "outputs": [],
   "source": [
    "#Exercise6\n",
    "print(df[df['訪問回数'] > 2])\n",
    "#print(df[df.訪問回数 > 2])"
   ]
  },
  {
   "cell_type": "code",
   "execution_count": null,
   "metadata": {},
   "outputs": [],
   "source": [
    "#Exercise7\n",
    "print(df)\n",
    "print(df[(df['訪問回数'] > 2) & (df['スコア'] < 10)])\n",
    "#print(df[(df.訪問回数 > 2) & (df.スコア < 10)])"
   ]
  },
  {
   "cell_type": "code",
   "execution_count": null,
   "metadata": {},
   "outputs": [],
   "source": [
    "#Exercise8\n",
    "print(df)\n",
    "print(df.loc['c', 'スコア'])"
   ]
  },
  {
   "cell_type": "code",
   "execution_count": null,
   "metadata": {},
   "outputs": [],
   "source": [
    "#Exercise9\n",
    "print(df)\n",
    "print(df.loc['a':'c', :'訪問回数'])"
   ]
  },
  {
   "cell_type": "code",
   "execution_count": null,
   "metadata": {},
   "outputs": [],
   "source": [
    "#Exercise10\n",
    "df.loc['f'] = ['たかし', 4, 10.5]\n",
    "print(df)\n",
    "df = df.drop('f')\n",
    "print(df)"
   ]
  },
  {
   "cell_type": "code",
   "execution_count": null,
   "metadata": {},
   "outputs": [],
   "source": [
    "#Exercise11\n",
    "print(df)\n",
    "print(df['訪問回数'].unique())\n",
    "print(df['訪問回数'].value_counts())"
   ]
  },
  {
   "cell_type": "code",
   "execution_count": null,
   "metadata": {},
   "outputs": [],
   "source": [
    "#Exercise12\n",
    "print(df)\n",
    "print(df.isnull().any(axis=0))"
   ]
  },
  {
   "cell_type": "code",
   "execution_count": null,
   "metadata": {},
   "outputs": [],
   "source": [
    "#Exercise13\n",
    "print(df)\n",
    "print(df.isnull().sum())"
   ]
  },
  {
   "cell_type": "code",
   "execution_count": null,
   "metadata": {},
   "outputs": [],
   "source": [
    "#Exercise14\n",
    "print(df)\n",
    "print(df[df['スコア'].isnull()])"
   ]
  },
  {
   "cell_type": "code",
   "execution_count": null,
   "metadata": {},
   "outputs": [],
   "source": [
    "#Exercise15\n",
    "df2 = df.dropna(how='any', axis=0)\n",
    "print(df)\n",
    "print(df2)"
   ]
  },
  {
   "cell_type": "code",
   "execution_count": null,
   "metadata": {},
   "outputs": [],
   "source": [
    "#Exercise16\n",
    "colmean = df.mean()\n",
    "df2 = df.fillna(colmean)\n",
    "print(df)\n",
    "print(df2)"
   ]
  },
  {
   "cell_type": "code",
   "execution_count": null,
   "metadata": {},
   "outputs": [],
   "source": [
    "#Exercise17\n",
    "print(df2)\n",
    "print(df2['スコア'].map(int))"
   ]
  },
  {
   "cell_type": "code",
   "execution_count": null,
   "metadata": {},
   "outputs": [],
   "source": [
    "#Exercise18\n",
    "print(df)\n",
    "df2 = df.sort_values(by='訪問回数', ascending=False)\n",
    "print(df2)"
   ]
  },
  {
   "cell_type": "code",
   "execution_count": null,
   "metadata": {},
   "outputs": [],
   "source": [
    "#Exercise19\n",
    "qualify = ['yes','yes','no','yes','no']\n",
    "df['資格'] = qualify\n",
    "print(df)\n",
    "df2 = df.drop('資格', axis=1)\n",
    "print(df2)"
   ]
  },
  {
   "cell_type": "code",
   "execution_count": null,
   "metadata": {},
   "outputs": [],
   "source": [
    "#Exercise20\n",
    "import pandas as pd\n",
    "data = {'col1': [1,4,3,4,5], 'col2': [4,5,6,7,8], 'col3': [7,8,9,0,1]}\n",
    "df = pd.DataFrame(data)\n",
    "print(df.loc[df.col2%2==0, 'col2'])"
   ]
  },
  {
   "cell_type": "code",
   "execution_count": null,
   "metadata": {},
   "outputs": [],
   "source": [
    "#Exercise21\n",
    "df.to_csv('new_file.csv', index=False)\n",
    "df2 = pd.read_csv('new_file.csv')\n",
    "print(df2)"
   ]
  },
  {
   "cell_type": "code",
   "execution_count": null,
   "metadata": {},
   "outputs": [],
   "source": [
    "#Exercise22\n",
    "df2 = df.drop([2,4], axis=0)\n",
    "df2 = df2.reset_index()\n",
    "print(df)\n",
    "print(df2)"
   ]
  },
  {
   "cell_type": "code",
   "execution_count": null,
   "metadata": {},
   "outputs": [],
   "source": [
    "#Exercise23\n",
    "import pandas as pd\n",
    "tmp = {'name':['Tom','James','Emily','Michael','Laura']}\n",
    "df_tmp = pd.DataFrame(tmp)\n",
    "df2 = pd.concat([df,df_tmp], axis=1)\n",
    "df2"
   ]
  },
  {
   "cell_type": "code",
   "execution_count": null,
   "metadata": {},
   "outputs": [],
   "source": [
    "#Exercise24\n",
    "tmp1 = pd.Series({'Tom':20,'James':32,'Emily':19,'Michael':45,'Laura':26})\n",
    "tmp2 = pd.Series({'Michael':'NY','Emily':'CA','Tom':'TX','Laura':'FL','James':'WA'})\n",
    "\n",
    "tmp_df = pd.concat([tmp1,tmp2], axis=1)\n",
    "print(tmp_df)"
   ]
  },
  {
   "cell_type": "code",
   "execution_count": null,
   "metadata": {},
   "outputs": [],
   "source": [
    "#Exercise25\n",
    "import pandas as pd\n",
    "import numpy as np\n",
    "data = {\n",
    "    'language':['Python','Java','PHP','PHP','Python','Java','PHP','Python','Java','Python','Java','Java','PHP','Python','PHP'],\n",
    "}\n",
    "data['col1'] = np.random.randint(1,100,15)\n",
    "data['col2'] = np.random.randint(1,100,15)\n",
    "\n",
    "df = pd.DataFrame(data)\n",
    "tmp = df.groupby(['language']).mean()\n",
    "print(tmp)"
   ]
  },
  {
   "cell_type": "code",
   "execution_count": null,
   "metadata": {},
   "outputs": [],
   "source": [
    "#Exercise26\n",
    "import pandas as pd\n",
    "tmp = {'class':['A','A','A','B','B','B','C','C','C','A','A','B','A','B','B']}\n",
    "df_tmp = pd.DataFrame(tmp)\n",
    "df2 = pd.concat([df,df_tmp], axis=1)\n",
    "print(df2)\n",
    "df3 = pd.pivot_table(df2, index='language', columns='class', values='col1')\n",
    "print(df3)\n",
    "df3.plot(kind='bar')"
   ]
  },
  {
   "cell_type": "code",
   "execution_count": null,
   "metadata": {},
   "outputs": [],
   "source": [
    "#Exercise27\n",
    "print(pd.pivot_table(df2, index='language', columns='class', values='col1', aggfunc=max))"
   ]
  },
  {
   "cell_type": "code",
   "execution_count": null,
   "metadata": {},
   "outputs": [],
   "source": [
    "#Exercise28\n",
    "import pandas as pd\n",
    "import numpy as np\n",
    "data = np.random.randn(20,3)\n",
    "columns = ['x0','x1','x2']\n",
    "df = pd.DataFrame(data,columns=columns)\n",
    "print(df)"
   ]
  },
  {
   "cell_type": "code",
   "execution_count": null,
   "metadata": {},
   "outputs": [],
   "source": [
    "#Exercise29\n",
    "df['result'] = np.random.randint(1,100,20)\n",
    "print(df)\n",
    "df.plot(kind='scatter',x='x2',y='result')\n"
   ]
  },
  {
   "cell_type": "code",
   "execution_count": null,
   "metadata": {},
   "outputs": [],
   "source": [
    "#Exercise30\n",
    "for name in df.columns:\n",
    "    if name == 'result':\n",
    "        continue\n",
    "    df.plot(kind='scatter', x=name, y='result')"
   ]
  },
  {
   "cell_type": "code",
   "execution_count": null,
   "metadata": {},
   "outputs": [],
   "source": [
    "#Exercise31\n",
    "import pandas as pd\n",
    "\n",
    "data = {'name': ['Tom','Taro','Jiro','James','Emily','Michael','Keiko','Laura','Sayuri','Daisuke'],\n",
    "        'score': [12.5, 9.2, 16.5, 12.7, 9.5, 20.6, 14.5, 11.3, 8.7, 19.6],\n",
    "        'attempts': [1, 3, 2, 3, 2, 3, 1, 1, 2, 1],\n",
    "        'qualify': ['yes', 'no', 'yes', 'no', 'no', 'yes', 'yes', 'no', 'no', 'yes']}\n",
    "df = pd.DataFrame(data)\n",
    "\n",
    "df2 = df.sort_values(['attempts', 'name'], ascending=[True, True])\n",
    "print(df2)"
   ]
  },
  {
   "cell_type": "code",
   "execution_count": null,
   "metadata": {},
   "outputs": [],
   "source": [
    "#Exercise32\n",
    "print('最大値：',df['score'].max())\n",
    "print('最小値：',df['score'].min())\n",
    "print('平均値：',df['score'].mean())\n",
    "print('中央値：',df['score'].median())\n"
   ]
  },
  {
   "cell_type": "code",
   "execution_count": null,
   "metadata": {},
   "outputs": [],
   "source": [
    "#Exercise33\n",
    "print(df.groupby('attempts')['qualify'].value_counts())\n",
    "#参考 種類全体の数を出す場合\n",
    "#print(df['qualify'].value_counts())\n",
    "#print(df.groupby('qualify').size())"
   ]
  },
  {
   "cell_type": "code",
   "execution_count": null,
   "metadata": {},
   "outputs": [],
   "source": [
    "#Exercise34\n",
    "print(df.groupby('attempts').mean()['score'])\n",
    "print(df.groupby('attempts')['score'].mean())\n"
   ]
  },
  {
   "cell_type": "code",
   "execution_count": null,
   "metadata": {},
   "outputs": [],
   "source": [
    "#Exercise35\n",
    "print(pd.pivot_table(df, index='attempts', columns='qualify', values='score'))"
   ]
  },
  {
   "cell_type": "code",
   "execution_count": null,
   "metadata": {},
   "outputs": [],
   "source": [
    "#Exercise36\n",
    "dummy = pd.get_dummies(df['qualify'], drop_first=True)\n",
    "df2 = pd.concat([df, dummy], axis=1)\n",
    "df2 = df2.drop('qualify', axis=1)\n",
    "print(df2)"
   ]
  },
  {
   "cell_type": "code",
   "execution_count": null,
   "metadata": {},
   "outputs": [],
   "source": [
    "#Exercise37\n",
    "df3 = df2.rename(columns={'yes':'qualify'})\n",
    "print(df3)"
   ]
  },
  {
   "cell_type": "code",
   "execution_count": null,
   "metadata": {},
   "outputs": [],
   "source": [
    "#Exercise38\n",
    "print(df3.dtypes)\n",
    "df3['score'] = df3['score'].astype(int)\n",
    "print(df3)\n",
    "print(df3.dtypes)"
   ]
  },
  {
   "cell_type": "code",
   "execution_count": null,
   "metadata": {},
   "outputs": [],
   "source": [
    "#Exercise39\n",
    "import pandas as pd\n",
    "columns = ['col1','col2','col3']\n",
    "values = [[2,6,3],[7,2,5],[9,1,7],[None,8,5],[4,3,None]]\n",
    "df = pd.DataFrame(values, columns=columns)\n",
    "print(df)\n",
    "df['col1'].plot(kind='line')"
   ]
  },
  {
   "cell_type": "code",
   "execution_count": null,
   "metadata": {},
   "outputs": [],
   "source": [
    "#Exercise40\n",
    "df['col1'] = df['col1'].interpolate()\n",
    "df['col1'].plot(kind='line')"
   ]
  },
  {
   "cell_type": "code",
   "execution_count": null,
   "metadata": {},
   "outputs": [],
   "source": [
    "#Exercise41\n",
    "d2 = {'col4': [1,2,3,4,7], 'col5': [4,5,6,9,5], 'col6': [7,8,12,1,11]}\n",
    "df2 = pd.DataFrame(d2)\n",
    "print(df2)\n",
    "df3 = pd.concat([df['col2'],df2['col4'],df2['col5']], axis=1)\n",
    "print(df3)"
   ]
  },
  {
   "cell_type": "code",
   "execution_count": null,
   "metadata": {},
   "outputs": [],
   "source": [
    "#Exercise42\n",
    "import pandas as pd\n",
    "import numpy as np\n",
    "columns = ['col1','col2','col3','col4','col5','col6','col7','col8','col9','col10']\n",
    "values = [np.random.randint(1,20,10) for i in range(5)]\n",
    "df = pd.DataFrame(values, columns=columns)\n",
    "print(df)\n",
    "df2 = df.loc[:,(df.columns != 'col3') & (df.columns != 'col6')]\n",
    "print(df2)"
   ]
  },
  {
   "cell_type": "code",
   "execution_count": null,
   "metadata": {},
   "outputs": [],
   "source": [
    "#Exercise43\n",
    "import pandas as pd\n",
    "data = {'col1':[1,2]*3,\n",
    "        'col2':[True,False]*3,\n",
    "        'col3':[3.0,4.0]*3,\n",
    "        'col4':['yes','no']*3}\n",
    "df = pd.DataFrame(data)\n",
    "print(df)\n",
    "print(df.loc[2:4,:])"
   ]
  },
  {
   "cell_type": "code",
   "execution_count": null,
   "metadata": {},
   "outputs": [],
   "source": [
    "#Exercise44\n",
    "df2 = df.select_dtypes(include='object')\n",
    "print(df2)\n",
    "df3 = df.select_dtypes(include='number')\n",
    "print(df3)\n",
    "df4 = df.select_dtypes(exclude='bool')\n",
    "print(df4)"
   ]
  },
  {
   "cell_type": "code",
   "execution_count": null,
   "metadata": {},
   "outputs": [],
   "source": [
    "#Exercise45\n",
    "df5 = df.drop([0,1,4,5])\n",
    "df6 = df.drop([2,4,5])\n",
    "print(df5)\n",
    "print(df6)"
   ]
  },
  {
   "cell_type": "code",
   "execution_count": null,
   "metadata": {},
   "outputs": [],
   "source": [
    "#Exercise46\n",
    "import pandas as pd\n",
    "df1 = pd.DataFrame({'lkey': ['foo', 'bar', 'baz', 'foo'],\n",
    "                    'value': [1, 2, 3, 5]})\n",
    "df2 = pd.DataFrame({'rkey': ['foo', 'bar', 'baz', 'foo'],\n",
    "                    'value': [5, 6, 7, 8]})\n",
    "print(df1)\n",
    "print(df2)\n",
    "print(df1.merge(df2,on='value'))\n",
    "print(df1.merge(df2,how='left',on='value'))\n",
    "print(df1.merge(df2,how='right',on='value'))\n"
   ]
  },
  {
   "cell_type": "code",
   "execution_count": null,
   "metadata": {},
   "outputs": [],
   "source": [
    "#Exercise47\n",
    "import pandas as pd\n",
    "sr1 = pd.Series(['php', 'python', 'java', 'c#', 'c++'])\n",
    "sr2 = pd.Series([1, 2, 3, 4, 5])\n",
    "\n",
    "df = pd.DataFrame({'col1':sr1, 'col2':sr2})\n",
    "#df = pd.concat([sr1,sr2],keys=['col1','col2'],axis=1)\n",
    "print(df)"
   ]
  }
 ],
 "metadata": {
  "interpreter": {
   "hash": "86a621efbc64b1a172edda153015bc6b7a63e2bb54bcf274ca8a4ea85e866d73"
  },
  "kernelspec": {
   "display_name": "Python 3.8.11 64-bit ('base': conda)",
   "language": "python",
   "name": "python3"
  },
  "language_info": {
   "codemirror_mode": {
    "name": "ipython",
    "version": 3
   },
   "file_extension": ".py",
   "mimetype": "text/x-python",
   "name": "python",
   "nbconvert_exporter": "python",
   "pygments_lexer": "ipython3",
   "version": "3.9.7"
  },
  "orig_nbformat": 4
 },
 "nbformat": 4,
 "nbformat_minor": 2
}
