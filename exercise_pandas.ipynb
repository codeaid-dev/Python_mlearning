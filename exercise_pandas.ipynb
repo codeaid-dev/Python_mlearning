{
 "cells": [
  {
   "cell_type": "code",
   "execution_count": null,
   "metadata": {},
   "outputs": [],
   "source": [
    "#Exercise1\n",
    "import pandas as pd\n",
    "data = {'Aのスコア':[78,85,96,80,86],'Bのスコア':[84,94,89,83,86],'Cのスコア':[86,97,96,72,83]}\n",
    "df = pd.DataFrame(data)\n",
    "print(df)"
   ]
  },
  {
   "cell_type": "code",
   "execution_count": null,
   "metadata": {},
   "outputs": [],
   "source": [
    "#Exercise2\n",
    "print(df.head(3))\n",
    "print(df.tail(3))\n",
    "print(df.shape)"
   ]
  },
  {
   "cell_type": "code",
   "execution_count": null,
   "metadata": {},
   "outputs": [],
   "source": [
    "#Exercise3\n",
    "df.columns = ['Aの得点','Bの得点','Cの得点']\n",
    "df.index = ['PHP','C++','Python','Java','JavaScript']\n",
    "print(df)"
   ]
  },
  {
   "cell_type": "code",
   "execution_count": null,
   "metadata": {},
   "outputs": [],
   "source": [
    "#Exercise4\n",
    "import pandas as pd\n",
    "import numpy as np\n",
    "data = {\n",
    "    '名前':['はなこ','たろう','じろう','ひろし','みゆき'],\n",
    "    '訪問回数':[1, 5, 3, 3, 2],\n",
    "    'スコア':[12.5, np.nan, 16.5, 9, np.nan]\n",
    "}\n",
    "labels = ['a','b','c','d','e']\n",
    "df = pd.DataFrame(data, index=labels)\n",
    "print(df)"
   ]
  },
  {
   "cell_type": "code",
   "execution_count": null,
   "metadata": {},
   "outputs": [],
   "source": [
    "#Exercise5\n",
    "col = ['名前','スコア']\n",
    "print(df[col])"
   ]
  },
  {
   "cell_type": "code",
   "execution_count": null,
   "metadata": {},
   "outputs": [],
   "source": [
    "#Exercise6\n",
    "print(df[df['訪問回数'] > 2])"
   ]
  },
  {
   "cell_type": "code",
   "execution_count": null,
   "metadata": {},
   "outputs": [],
   "source": [
    "#Exercise7\n",
    "print(df)\n",
    "print(df[(df['訪問回数'] > 2) & (df['スコア'] < 10)])"
   ]
  },
  {
   "cell_type": "code",
   "execution_count": null,
   "metadata": {},
   "outputs": [],
   "source": [
    "#Exercise8\n",
    "print(df)\n",
    "print(df.loc['c', 'スコア'])"
   ]
  },
  {
   "cell_type": "code",
   "execution_count": null,
   "metadata": {},
   "outputs": [],
   "source": [
    "#Exercise9\n",
    "print(df)\n",
    "print(df.loc['a':'c', :'訪問回数'])"
   ]
  },
  {
   "cell_type": "code",
   "execution_count": null,
   "metadata": {},
   "outputs": [],
   "source": [
    "#Exercise10\n",
    "df.loc['f'] = ['たかし', 4, 10.5]\n",
    "print(df)\n",
    "df = df.drop('f')\n",
    "print(df)"
   ]
  },
  {
   "cell_type": "code",
   "execution_count": null,
   "metadata": {},
   "outputs": [],
   "source": [
    "#Exercise11\n",
    "print(df)\n",
    "print(df['訪問回数'].unique())\n",
    "print(df['訪問回数'].value_counts())"
   ]
  },
  {
   "cell_type": "code",
   "execution_count": null,
   "metadata": {},
   "outputs": [],
   "source": [
    "#Exercise12\n",
    "print(df)\n",
    "print(df.isnull().any(axis=0))"
   ]
  },
  {
   "cell_type": "code",
   "execution_count": null,
   "metadata": {},
   "outputs": [],
   "source": [
    "#Exercise13\n",
    "print(df)\n",
    "print(df.isnull().sum())"
   ]
  },
  {
   "cell_type": "code",
   "execution_count": null,
   "metadata": {},
   "outputs": [],
   "source": [
    "#Exercise14\n",
    "print(df)\n",
    "print(df[df['スコア'].isnull()])"
   ]
  },
  {
   "cell_type": "code",
   "execution_count": null,
   "metadata": {},
   "outputs": [],
   "source": [
    "#Exercise15\n",
    "df2 = df.dropna(how='any', axis=0)\n",
    "print(df)\n",
    "print(df2)"
   ]
  },
  {
   "cell_type": "code",
   "execution_count": null,
   "metadata": {},
   "outputs": [],
   "source": [
    "#Exercise16\n",
    "colmean = df.mean()\n",
    "df2 = df.fillna(colmean)\n",
    "print(df)\n",
    "print(df2)"
   ]
  },
  {
   "cell_type": "code",
   "execution_count": null,
   "metadata": {},
   "outputs": [],
   "source": [
    "#Exercise17\n",
    "print(df2)\n",
    "print(df2['スコア'].map(int))"
   ]
  },
  {
   "cell_type": "code",
   "execution_count": null,
   "metadata": {},
   "outputs": [],
   "source": [
    "#Exercise18\n",
    "print(df)\n",
    "df2 = df.sort_values(by='訪問回数', ascending=False)\n",
    "print(df2)"
   ]
  },
  {
   "cell_type": "code",
   "execution_count": null,
   "metadata": {},
   "outputs": [],
   "source": [
    "#Exercise19\n",
    "qualify = ['yes','yes','no','yes','no']\n",
    "df['資格'] = qualify\n",
    "print(df)\n",
    "df = df.drop('資格', axis=1)\n",
    "print(df)"
   ]
  }
 ],
 "metadata": {
  "interpreter": {
   "hash": "86a621efbc64b1a172edda153015bc6b7a63e2bb54bcf274ca8a4ea85e866d73"
  },
  "kernelspec": {
   "display_name": "Python 3.8.11 64-bit ('base': conda)",
   "language": "python",
   "name": "python3"
  },
  "language_info": {
   "codemirror_mode": {
    "name": "ipython",
    "version": 3
   },
   "file_extension": ".py",
   "mimetype": "text/x-python",
   "name": "python",
   "nbconvert_exporter": "python",
   "pygments_lexer": "ipython3",
   "version": "3.8.11"
  },
  "orig_nbformat": 4
 },
 "nbformat": 4,
 "nbformat_minor": 2
}
