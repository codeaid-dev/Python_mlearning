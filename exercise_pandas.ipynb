{
 "cells": [
  {
   "cell_type": "code",
   "execution_count": null,
   "metadata": {},
   "outputs": [],
   "source": [
    "\n",
    "#Exercise1\n",
    "import pandas as pd\n",
    "data = {'Aのスコア':[78,85,96,80,86],'Bのスコア':[84,94,89,83,86],'Cのスコア':[86,97,96,72,83]}\n",
    "df = pd.DataFrame(data)\n",
    "print(df)"
   ]
  },
  {
   "cell_type": "code",
   "execution_count": null,
   "metadata": {},
   "outputs": [],
   "source": [
    "#Exercise2\n",
    "print(df.head(3))\n",
    "print(df.tail(3))\n",
    "print(df.shape)"
   ]
  },
  {
   "cell_type": "code",
   "execution_count": null,
   "metadata": {},
   "outputs": [],
   "source": [
    "#Exercise3\n",
    "df.columns = ['Aの得点','Bの得点','Cの得点']\n",
    "df.index = ['PHP','C++','Python','Java','JavaScript']\n",
    "print(df)"
   ]
  },
  {
   "cell_type": "code",
   "execution_count": null,
   "metadata": {},
   "outputs": [],
   "source": [
    "#Exercise4\n",
    "import pandas as pd\n",
    "data = {\n",
    "    '名前':['はなこ','たろう','じろう','ひろし','みゆき'],\n",
    "    '訪問回数':[1, 5, 3, 3, 2],\n",
    "    'スコア':[12.5, None, 16.5, 9, None]\n",
    "}\n",
    "labels = ['a','b','c','d','e']\n",
    "df = pd.DataFrame(data, index=labels)\n",
    "print(df)"
   ]
  },
  {
   "cell_type": "code",
   "execution_count": null,
   "metadata": {},
   "outputs": [],
   "source": [
    "#Exercise5\n",
    "col = ['名前','スコア']\n",
    "print(df[col])"
   ]
  },
  {
   "cell_type": "code",
   "execution_count": null,
   "metadata": {},
   "outputs": [],
   "source": [
    "#Exercise6\n",
    "print(df[df['訪問回数'] > 2])\n",
    "#print(df[df.訪問回数 > 2])"
   ]
  },
  {
   "cell_type": "code",
   "execution_count": null,
   "metadata": {},
   "outputs": [],
   "source": [
    "#Exercise7\n",
    "print(df)\n",
    "print(df[(df['訪問回数'] > 2) & (df['スコア'] < 10)])\n",
    "#print(df[(df.訪問回数 > 2) & (df.スコア < 10)])"
   ]
  },
  {
   "cell_type": "code",
   "execution_count": null,
   "metadata": {},
   "outputs": [],
   "source": [
    "#Exercise8\n",
    "print(df)\n",
    "print(df.loc['c', 'スコア'])"
   ]
  },
  {
   "cell_type": "code",
   "execution_count": null,
   "metadata": {},
   "outputs": [],
   "source": [
    "#Exercise9\n",
    "print(df)\n",
    "print(df.loc['a':'c', :'訪問回数'])"
   ]
  },
  {
   "cell_type": "code",
   "execution_count": null,
   "metadata": {},
   "outputs": [],
   "source": [
    "#Exercise10\n",
    "df.loc['f'] = ['たかし', 4, 10.5]\n",
    "print(df)\n",
    "df = df.drop('f')\n",
    "print(df)"
   ]
  },
  {
   "cell_type": "code",
   "execution_count": null,
   "metadata": {},
   "outputs": [],
   "source": [
    "#Exercise11\n",
    "print(df)\n",
    "print(df['訪問回数'].unique())\n",
    "print(df['訪問回数'].value_counts())"
   ]
  },
  {
   "cell_type": "code",
   "execution_count": null,
   "metadata": {},
   "outputs": [],
   "source": [
    "#Exercise12\n",
    "print(df)\n",
    "print(df.isnull().any(axis=0))"
   ]
  },
  {
   "cell_type": "code",
   "execution_count": null,
   "metadata": {},
   "outputs": [],
   "source": [
    "#Exercise13\n",
    "print(df)\n",
    "print(df.isnull().sum())"
   ]
  },
  {
   "cell_type": "code",
   "execution_count": null,
   "metadata": {},
   "outputs": [],
   "source": [
    "#Exercise14\n",
    "print(df)\n",
    "print(df[df['スコア'].isnull()])"
   ]
  },
  {
   "cell_type": "code",
   "execution_count": null,
   "metadata": {},
   "outputs": [],
   "source": [
    "#Exercise15\n",
    "df2 = df.dropna(how='any', axis=0)\n",
    "print(df)\n",
    "print(df2)"
   ]
  },
  {
   "cell_type": "code",
   "execution_count": null,
   "metadata": {},
   "outputs": [],
   "source": [
    "#Exercise16\n",
    "colmean = df.mean()\n",
    "df2 = df.fillna(colmean)\n",
    "print(df)\n",
    "print(df2)"
   ]
  },
  {
   "cell_type": "code",
   "execution_count": null,
   "metadata": {},
   "outputs": [],
   "source": [
    "#Exercise17\n",
    "print(df2)\n",
    "print(df2['スコア'].map(int))"
   ]
  },
  {
   "cell_type": "code",
   "execution_count": null,
   "metadata": {},
   "outputs": [],
   "source": [
    "#Exercise18\n",
    "print(df)\n",
    "df2 = df.sort_values(by='訪問回数', ascending=False)\n",
    "print(df2)"
   ]
  },
  {
   "cell_type": "code",
   "execution_count": null,
   "metadata": {},
   "outputs": [],
   "source": [
    "#Exercise19\n",
    "qualify = ['yes','yes','no','yes','no']\n",
    "df['資格'] = qualify\n",
    "print(df)\n",
    "df2 = df.drop('資格', axis=1)\n",
    "print(df2)"
   ]
  },
  {
   "cell_type": "code",
   "execution_count": null,
   "metadata": {},
   "outputs": [],
   "source": [
    "#Exercise20\n",
    "import pandas as pd\n",
    "data = {'col1': [1,4,3,4,5], 'col2': [4,5,6,7,8], 'col3': [7,8,9,0,1]}\n",
    "df = pd.DataFrame(data)\n",
    "print(df.loc[df.col2%2==0, 'col2'])"
   ]
  },
  {
   "cell_type": "code",
   "execution_count": null,
   "metadata": {},
   "outputs": [],
   "source": [
    "#Exercise21\n",
    "df.to_csv('new_file.csv', index=False)\n",
    "df2 = pd.read_csv('new_file.csv')\n",
    "print(df2)"
   ]
  },
  {
   "cell_type": "code",
   "execution_count": null,
   "metadata": {},
   "outputs": [],
   "source": [
    "#Exercise22\n",
    "df2 = df.drop([2,4], axis=0)\n",
    "df2 = df2.reset_index()\n",
    "print(df)\n",
    "print(df2)"
   ]
  },
  {
   "cell_type": "code",
   "execution_count": null,
   "metadata": {},
   "outputs": [],
   "source": [
    "#Exercise23\n",
    "tmp = {'name':['Tom','James','Emily','Michael','Laura']}\n",
    "df_tmp = pd.DataFrame(tmp)\n",
    "df2 = pd.concat([df,df_tmp], axis=1)\n",
    "df2"
   ]
  },
  {
   "cell_type": "code",
   "execution_count": null,
   "metadata": {},
   "outputs": [],
   "source": [
    "#Exercise24\n",
    "tmp1 = pd.Series({'Tom':20,'James':32,'Emily':19,'Michael':45,'Laura':26})\n",
    "tmp2 = pd.Series({'Michael':'NY','Emily':'CA','Tom':'TX','Laura':'FL','James':'WA'})\n",
    "\n",
    "tmp_df = pd.concat([tmp1,tmp2], axis=1)\n",
    "print(tmp_df)"
   ]
  },
  {
   "cell_type": "code",
   "execution_count": null,
   "metadata": {},
   "outputs": [],
   "source": [
    "#Exercise25\n",
    "import pandas as pd\n",
    "import numpy as np\n",
    "data = {\n",
    "    'language':['Python','Java','PHP','PHP','Python','Java','PHP','Python','Java','Python','Java','Java','PHP','Python','PHP'],\n",
    "}\n",
    "data['col1'] = np.random.randint(1,100,15)\n",
    "data['col2'] = np.random.randint(1,100,15)\n",
    "\n",
    "df = pd.DataFrame(data)\n",
    "tmp = df.groupby(['language']).mean()\n",
    "print(tmp)"
   ]
  },
  {
   "cell_type": "code",
   "execution_count": null,
   "metadata": {},
   "outputs": [],
   "source": [
    "#Exercise26\n",
    "tmp = {'class':['A','A','A','B','B','B','C','C','C','A','A','B','A','B','B']}\n",
    "df_tmp = pd.DataFrame(tmp)\n",
    "df2 = pd.concat([df,df_tmp], axis=1)\n",
    "print(df2)\n",
    "df3 = pd.pivot_table(df2, index='language', columns='class', values='col1')\n",
    "print(df3)\n",
    "df3.plot(kind='bar')"
   ]
  },
  {
   "cell_type": "code",
   "execution_count": null,
   "metadata": {},
   "outputs": [],
   "source": [
    "#Exercise27\n",
    "print(pd.pivot_table(df2, index='language', columns='class', values='col1', aggfunc=max))"
   ]
  },
  {
   "cell_type": "code",
   "execution_count": 9,
   "metadata": {},
   "outputs": [
    {
     "name": "stdout",
     "output_type": "stream",
     "text": [
      "          x0        x1        x2\n",
      "0  -0.344701  0.331929 -0.766178\n",
      "1  -1.494648  0.892926 -0.609400\n",
      "2  -0.383632 -0.903324  0.810035\n",
      "3   0.345550 -0.317127  0.355957\n",
      "4  -1.925017  1.200473  0.244640\n",
      "5  -0.214849 -1.375596 -0.297979\n",
      "6  -0.538580  0.427682  1.579232\n",
      "7  -0.652432  0.267276  1.019436\n",
      "8   0.095395 -0.267333  0.809452\n",
      "9  -0.930805  0.995231 -1.462598\n",
      "10 -1.077568  1.306783  1.163475\n",
      "11  1.021429  1.140637 -0.829951\n",
      "12  0.336091  0.081544  0.640276\n",
      "13  0.240780 -0.204196 -1.330721\n",
      "14  0.434624  0.374870 -0.403753\n",
      "15  0.290270 -0.214148  0.130888\n",
      "16  0.003039 -0.483570 -0.451698\n",
      "17  1.416065  0.960893 -0.303531\n",
      "18  0.946833  0.770206 -1.061343\n",
      "19  1.716777 -1.025737 -0.806042\n"
     ]
    }
   ],
   "source": [
    "#Exercise28\n",
    "import pandas as pd\n",
    "import numpy as np\n",
    "data = np.random.randn(20,3)\n",
    "columns = ['x0','x1','x2']\n",
    "df = pd.DataFrame(data,columns=columns)\n",
    "print(df)"
   ]
  },
  {
   "cell_type": "code",
   "execution_count": 10,
   "metadata": {},
   "outputs": [
    {
     "name": "stdout",
     "output_type": "stream",
     "text": [
      "          x0        x1        x2  result\n",
      "0  -0.344701  0.331929 -0.766178      11\n",
      "1  -1.494648  0.892926 -0.609400      40\n",
      "2  -0.383632 -0.903324  0.810035      81\n",
      "3   0.345550 -0.317127  0.355957       9\n",
      "4  -1.925017  1.200473  0.244640      92\n",
      "5  -0.214849 -1.375596 -0.297979      98\n",
      "6  -0.538580  0.427682  1.579232      70\n",
      "7  -0.652432  0.267276  1.019436      13\n",
      "8   0.095395 -0.267333  0.809452      97\n",
      "9  -0.930805  0.995231 -1.462598      34\n",
      "10 -1.077568  1.306783  1.163475      72\n",
      "11  1.021429  1.140637 -0.829951      63\n",
      "12  0.336091  0.081544  0.640276      89\n",
      "13  0.240780 -0.204196 -1.330721      54\n",
      "14  0.434624  0.374870 -0.403753      23\n",
      "15  0.290270 -0.214148  0.130888      98\n",
      "16  0.003039 -0.483570 -0.451698       4\n",
      "17  1.416065  0.960893 -0.303531      50\n",
      "18  0.946833  0.770206 -1.061343      28\n",
      "19  1.716777 -1.025737 -0.806042      32\n"
     ]
    },
    {
     "data": {
      "text/plain": [
       "<AxesSubplot:xlabel='x2', ylabel='result'>"
      ]
     },
     "execution_count": 10,
     "metadata": {},
     "output_type": "execute_result"
    },
    {
     "data": {
      "image/png": "[encoded data removed]",
      "text/plain": [
       "<Figure size 432x288 with 1 Axes>"
      ]
     },
     "metadata": {
      "needs_background": "light"
     },
     "output_type": "display_data"
    }
   ],
   "source": [
    "#Exercise29\n",
    "df['result'] = np.random.randint(1,100,20)\n",
    "print(df)\n",
    "df.plot(kind='scatter',x='x2',y='result')\n"
   ]
  },
  {
   "cell_type": "code",
   "execution_count": 11,
   "metadata": {},
   "outputs": [
    {
     "data": {
      "image/png": "[encoded data removed]",
      "text/plain": [
       "<Figure size 432x288 with 1 Axes>"
      ]
     },
     "metadata": {
      "needs_background": "light"
     },
     "output_type": "display_data"
    },
    {
     "data": {
      "image/png": "[encoded data removed]",
      "text/plain": [
       "<Figure size 432x288 with 1 Axes>"
      ]
     },
     "metadata": {
      "needs_background": "light"
     },
     "output_type": "display_data"
    },
    {
     "data": {
      "image/png": "[encoded data removed]",
      "text/plain": [
       "<Figure size 432x288 with 1 Axes>"
      ]
     },
     "metadata": {
      "needs_background": "light"
     },
     "output_type": "display_data"
    }
   ],
   "source": [
    "#Exercise30\n",
    "for name in df.columns:\n",
    "    if name == 'result':\n",
    "        continue\n",
    "    df.plot(kind='scatter', x=name, y='result')"
   ]
  }
 ],
 "metadata": {
  "interpreter": {
   "hash": "86a621efbc64b1a172edda153015bc6b7a63e2bb54bcf274ca8a4ea85e866d73"
  },
  "kernelspec": {
   "display_name": "Python 3.8.11 64-bit ('base': conda)",
   "language": "python",
   "name": "python3"
  },
  "language_info": {
   "codemirror_mode": {
    "name": "ipython",
    "version": 3
   },
   "file_extension": ".py",
   "mimetype": "text/x-python",
   "name": "python",
   "nbconvert_exporter": "python",
   "pygments_lexer": "ipython3",
   "version": "3.8.5"
  },
  "orig_nbformat": 4
 },
 "nbformat": 4,
 "nbformat_minor": 2
}
