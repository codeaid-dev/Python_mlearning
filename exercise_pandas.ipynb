{
 "cells": [
  {
   "cell_type": "code",
   "execution_count": 43,
   "metadata": {},
   "outputs": [
    {
     "name": "stdout",
     "output_type": "stream",
     "text": [
      "   Aのスコア  Bのスコア  Cのスコア\n",
      "0     78     84     86\n",
      "1     85     94     97\n",
      "2     96     89     96\n",
      "3     80     83     72\n",
      "4     86     86     83\n"
     ]
    }
   ],
   "source": [
    "\n",
    "#Exercise1\n",
    "import pandas as pd\n",
    "data = {'Aのスコア':[78,85,96,80,86],'Bのスコア':[84,94,89,83,86],'Cのスコア':[86,97,96,72,83]}\n",
    "df = pd.DataFrame(data)\n",
    "print(df)"
   ]
  },
  {
   "cell_type": "code",
   "execution_count": 44,
   "metadata": {},
   "outputs": [
    {
     "name": "stdout",
     "output_type": "stream",
     "text": [
      "   Aのスコア  Bのスコア  Cのスコア\n",
      "0     78     84     86\n",
      "1     85     94     97\n",
      "2     96     89     96\n",
      "   Aのスコア  Bのスコア  Cのスコア\n",
      "2     96     89     96\n",
      "3     80     83     72\n",
      "4     86     86     83\n",
      "(5, 3)\n"
     ]
    }
   ],
   "source": [
    "#Exercise2\n",
    "print(df.head(3))\n",
    "print(df.tail(3))\n",
    "print(df.shape)"
   ]
  },
  {
   "cell_type": "code",
   "execution_count": 45,
   "metadata": {},
   "outputs": [
    {
     "name": "stdout",
     "output_type": "stream",
     "text": [
      "            Aの得点  Bの得点  Cの得点\n",
      "PHP           78    84    86\n",
      "C++           85    94    97\n",
      "Python        96    89    96\n",
      "Java          80    83    72\n",
      "JavaScript    86    86    83\n"
     ]
    }
   ],
   "source": [
    "#Exercise3\n",
    "df.columns = ['Aの得点','Bの得点','Cの得点']\n",
    "df.index = ['PHP','C++','Python','Java','JavaScript']\n",
    "print(df)"
   ]
  },
  {
   "cell_type": "code",
   "execution_count": 46,
   "metadata": {},
   "outputs": [
    {
     "name": "stdout",
     "output_type": "stream",
     "text": [
      "    名前  訪問回数   スコア\n",
      "a  はなこ     1  12.5\n",
      "b  たろう     5   NaN\n",
      "c  じろう     3  16.5\n",
      "d  ひろし     3   9.0\n",
      "e  みゆき     2   NaN\n"
     ]
    }
   ],
   "source": [
    "#Exercise4\n",
    "import pandas as pd\n",
    "import numpy as np\n",
    "data = {\n",
    "    '名前':['はなこ','たろう','じろう','ひろし','みゆき'],\n",
    "    '訪問回数':[1, 5, 3, 3, 2],\n",
    "    'スコア':[12.5, np.nan, 16.5, 9, np.nan]\n",
    "}\n",
    "labels = ['a','b','c','d','e']\n",
    "df = pd.DataFrame(data, index=labels)\n",
    "print(df)"
   ]
  },
  {
   "cell_type": "code",
   "execution_count": 47,
   "metadata": {},
   "outputs": [
    {
     "name": "stdout",
     "output_type": "stream",
     "text": [
      "    名前   スコア\n",
      "a  はなこ  12.5\n",
      "b  たろう   NaN\n",
      "c  じろう  16.5\n",
      "d  ひろし   9.0\n",
      "e  みゆき   NaN\n"
     ]
    }
   ],
   "source": [
    "#Exercise5\n",
    "col = ['名前','スコア']\n",
    "print(df[col])"
   ]
  },
  {
   "cell_type": "code",
   "execution_count": 48,
   "metadata": {},
   "outputs": [
    {
     "name": "stdout",
     "output_type": "stream",
     "text": [
      "    名前  訪問回数   スコア\n",
      "b  たろう     5   NaN\n",
      "c  じろう     3  16.5\n",
      "d  ひろし     3   9.0\n"
     ]
    }
   ],
   "source": [
    "#Exercise6\n",
    "print(df[df['訪問回数'] > 2])"
   ]
  },
  {
   "cell_type": "code",
   "execution_count": 49,
   "metadata": {},
   "outputs": [
    {
     "name": "stdout",
     "output_type": "stream",
     "text": [
      "    名前  訪問回数   スコア\n",
      "a  はなこ     1  12.5\n",
      "b  たろう     5   NaN\n",
      "c  じろう     3  16.5\n",
      "d  ひろし     3   9.0\n",
      "e  みゆき     2   NaN\n",
      "    名前  訪問回数  スコア\n",
      "d  ひろし     3  9.0\n"
     ]
    }
   ],
   "source": [
    "#Exercise7\n",
    "print(df)\n",
    "print(df[(df['訪問回数'] > 2) & (df['スコア'] < 10)])"
   ]
  },
  {
   "cell_type": "code",
   "execution_count": 50,
   "metadata": {},
   "outputs": [
    {
     "name": "stdout",
     "output_type": "stream",
     "text": [
      "    名前  訪問回数   スコア\n",
      "a  はなこ     1  12.5\n",
      "b  たろう     5   NaN\n",
      "c  じろう     3  16.5\n",
      "d  ひろし     3   9.0\n",
      "e  みゆき     2   NaN\n",
      "16.5\n"
     ]
    }
   ],
   "source": [
    "#Exercise8\n",
    "print(df)\n",
    "print(df.loc['c', 'スコア'])"
   ]
  },
  {
   "cell_type": "code",
   "execution_count": 51,
   "metadata": {},
   "outputs": [
    {
     "name": "stdout",
     "output_type": "stream",
     "text": [
      "    名前  訪問回数   スコア\n",
      "a  はなこ     1  12.5\n",
      "b  たろう     5   NaN\n",
      "c  じろう     3  16.5\n",
      "d  ひろし     3   9.0\n",
      "e  みゆき     2   NaN\n",
      "    名前  訪問回数\n",
      "a  はなこ     1\n",
      "b  たろう     5\n",
      "c  じろう     3\n"
     ]
    }
   ],
   "source": [
    "#Exercise9\n",
    "print(df)\n",
    "print(df.loc['a':'c', :'訪問回数'])"
   ]
  },
  {
   "cell_type": "code",
   "execution_count": 52,
   "metadata": {},
   "outputs": [
    {
     "name": "stdout",
     "output_type": "stream",
     "text": [
      "    名前  訪問回数   スコア\n",
      "a  はなこ     1  12.5\n",
      "b  たろう     5   NaN\n",
      "c  じろう     3  16.5\n",
      "d  ひろし     3   9.0\n",
      "e  みゆき     2   NaN\n",
      "f  たかし     4  10.5\n",
      "    名前  訪問回数   スコア\n",
      "a  はなこ     1  12.5\n",
      "b  たろう     5   NaN\n",
      "c  じろう     3  16.5\n",
      "d  ひろし     3   9.0\n",
      "e  みゆき     2   NaN\n"
     ]
    }
   ],
   "source": [
    "#Exercise10\n",
    "df.loc['f'] = ['たかし', 4, 10.5]\n",
    "print(df)\n",
    "df = df.drop('f')\n",
    "print(df)"
   ]
  },
  {
   "cell_type": "code",
   "execution_count": 53,
   "metadata": {},
   "outputs": [
    {
     "name": "stdout",
     "output_type": "stream",
     "text": [
      "    名前  訪問回数   スコア\n",
      "a  はなこ     1  12.5\n",
      "b  たろう     5   NaN\n",
      "c  じろう     3  16.5\n",
      "d  ひろし     3   9.0\n",
      "e  みゆき     2   NaN\n",
      "[1 5 3 2]\n",
      "3    2\n",
      "1    1\n",
      "5    1\n",
      "2    1\n",
      "Name: 訪問回数, dtype: int64\n"
     ]
    }
   ],
   "source": [
    "#Exercise11\n",
    "print(df)\n",
    "print(df['訪問回数'].unique())\n",
    "print(df['訪問回数'].value_counts())"
   ]
  },
  {
   "cell_type": "code",
   "execution_count": 54,
   "metadata": {},
   "outputs": [
    {
     "name": "stdout",
     "output_type": "stream",
     "text": [
      "    名前  訪問回数   スコア\n",
      "a  はなこ     1  12.5\n",
      "b  たろう     5   NaN\n",
      "c  じろう     3  16.5\n",
      "d  ひろし     3   9.0\n",
      "e  みゆき     2   NaN\n",
      "名前      False\n",
      "訪問回数    False\n",
      "スコア      True\n",
      "dtype: bool\n"
     ]
    }
   ],
   "source": [
    "#Exercise12\n",
    "print(df)\n",
    "print(df.isnull().any(axis=0))"
   ]
  },
  {
   "cell_type": "code",
   "execution_count": 55,
   "metadata": {},
   "outputs": [
    {
     "name": "stdout",
     "output_type": "stream",
     "text": [
      "    名前  訪問回数   スコア\n",
      "a  はなこ     1  12.5\n",
      "b  たろう     5   NaN\n",
      "c  じろう     3  16.5\n",
      "d  ひろし     3   9.0\n",
      "e  みゆき     2   NaN\n",
      "名前      0\n",
      "訪問回数    0\n",
      "スコア     2\n",
      "dtype: int64\n"
     ]
    }
   ],
   "source": [
    "#Exercise13\n",
    "print(df)\n",
    "print(df.isnull().sum())"
   ]
  },
  {
   "cell_type": "code",
   "execution_count": 56,
   "metadata": {},
   "outputs": [
    {
     "name": "stdout",
     "output_type": "stream",
     "text": [
      "    名前  訪問回数   スコア\n",
      "a  はなこ     1  12.5\n",
      "b  たろう     5   NaN\n",
      "c  じろう     3  16.5\n",
      "d  ひろし     3   9.0\n",
      "e  みゆき     2   NaN\n",
      "    名前  訪問回数  スコア\n",
      "b  たろう     5  NaN\n",
      "e  みゆき     2  NaN\n"
     ]
    }
   ],
   "source": [
    "#Exercise14\n",
    "print(df)\n",
    "print(df[df['スコア'].isnull()])"
   ]
  },
  {
   "cell_type": "code",
   "execution_count": 57,
   "metadata": {},
   "outputs": [
    {
     "name": "stdout",
     "output_type": "stream",
     "text": [
      "    名前  訪問回数   スコア\n",
      "a  はなこ     1  12.5\n",
      "b  たろう     5   NaN\n",
      "c  じろう     3  16.5\n",
      "d  ひろし     3   9.0\n",
      "e  みゆき     2   NaN\n",
      "    名前  訪問回数   スコア\n",
      "a  はなこ     1  12.5\n",
      "c  じろう     3  16.5\n",
      "d  ひろし     3   9.0\n"
     ]
    }
   ],
   "source": [
    "#Exercise15\n",
    "df2 = df.dropna(how='any', axis=0)\n",
    "print(df)\n",
    "print(df2)"
   ]
  },
  {
   "cell_type": "code",
   "execution_count": 58,
   "metadata": {},
   "outputs": [
    {
     "name": "stdout",
     "output_type": "stream",
     "text": [
      "    名前  訪問回数   スコア\n",
      "a  はなこ     1  12.5\n",
      "b  たろう     5   NaN\n",
      "c  じろう     3  16.5\n",
      "d  ひろし     3   9.0\n",
      "e  みゆき     2   NaN\n",
      "    名前  訪問回数        スコア\n",
      "a  はなこ     1  12.500000\n",
      "b  たろう     5  12.666667\n",
      "c  じろう     3  16.500000\n",
      "d  ひろし     3   9.000000\n",
      "e  みゆき     2  12.666667\n"
     ]
    },
    {
     "name": "stderr",
     "output_type": "stream",
     "text": [
      "C:\\Users\\birdy\\AppData\\Local\\Temp/ipykernel_30924/3959389575.py:2: FutureWarning: Dropping of nuisance columns in DataFrame reductions (with 'numeric_only=None') is deprecated; in a future version this will raise TypeError.  Select only valid columns before calling the reduction.\n",
      "  colmean = df.mean()\n"
     ]
    }
   ],
   "source": [
    "#Exercise16\n",
    "colmean = df.mean()\n",
    "df2 = df.fillna(colmean)\n",
    "print(df)\n",
    "print(df2)"
   ]
  },
  {
   "cell_type": "code",
   "execution_count": 59,
   "metadata": {},
   "outputs": [
    {
     "name": "stdout",
     "output_type": "stream",
     "text": [
      "    名前  訪問回数        スコア\n",
      "a  はなこ     1  12.500000\n",
      "b  たろう     5  12.666667\n",
      "c  じろう     3  16.500000\n",
      "d  ひろし     3   9.000000\n",
      "e  みゆき     2  12.666667\n",
      "a    12\n",
      "b    12\n",
      "c    16\n",
      "d     9\n",
      "e    12\n",
      "Name: スコア, dtype: int64\n"
     ]
    }
   ],
   "source": [
    "#Exercise17\n",
    "print(df2)\n",
    "print(df2['スコア'].map(int))"
   ]
  },
  {
   "cell_type": "code",
   "execution_count": 60,
   "metadata": {},
   "outputs": [
    {
     "name": "stdout",
     "output_type": "stream",
     "text": [
      "    名前  訪問回数   スコア\n",
      "a  はなこ     1  12.5\n",
      "b  たろう     5   NaN\n",
      "c  じろう     3  16.5\n",
      "d  ひろし     3   9.0\n",
      "e  みゆき     2   NaN\n",
      "    名前  訪問回数   スコア\n",
      "b  たろう     5   NaN\n",
      "c  じろう     3  16.5\n",
      "d  ひろし     3   9.0\n",
      "e  みゆき     2   NaN\n",
      "a  はなこ     1  12.5\n"
     ]
    }
   ],
   "source": [
    "#Exercise18\n",
    "print(df)\n",
    "df2 = df.sort_values(by='訪問回数', ascending=False)\n",
    "print(df2)"
   ]
  },
  {
   "cell_type": "code",
   "execution_count": 61,
   "metadata": {},
   "outputs": [
    {
     "name": "stdout",
     "output_type": "stream",
     "text": [
      "    名前  訪問回数   スコア   資格\n",
      "a  はなこ     1  12.5  yes\n",
      "b  たろう     5   NaN  yes\n",
      "c  じろう     3  16.5   no\n",
      "d  ひろし     3   9.0  yes\n",
      "e  みゆき     2   NaN   no\n",
      "    名前  訪問回数   スコア\n",
      "a  はなこ     1  12.5\n",
      "b  たろう     5   NaN\n",
      "c  じろう     3  16.5\n",
      "d  ひろし     3   9.0\n",
      "e  みゆき     2   NaN\n"
     ]
    }
   ],
   "source": [
    "#Exercise19\n",
    "qualify = ['yes','yes','no','yes','no']\n",
    "df['資格'] = qualify\n",
    "print(df)\n",
    "df2 = df.drop('資格', axis=1)\n",
    "print(df2)"
   ]
  },
  {
   "cell_type": "code",
   "execution_count": 68,
   "metadata": {},
   "outputs": [
    {
     "name": "stdout",
     "output_type": "stream",
     "text": [
      "   col1  col2  col3\n",
      "1     4     5     8\n",
      "3     4     7     0\n"
     ]
    }
   ],
   "source": [
    "#Exercise20\n",
    "import pandas as pd\n",
    "data = {'col1': [1,4,3,4,5], 'col2': [4,5,6,7,8], 'col3': [7,8,9,0,1]}\n",
    "df = pd.DataFrame(data)\n",
    "print(df.loc[df['col1'] == 4])"
   ]
  },
  {
   "cell_type": "code",
   "execution_count": 69,
   "metadata": {},
   "outputs": [
    {
     "name": "stdout",
     "output_type": "stream",
     "text": [
      "   col1  col2  col3\n",
      "0     1     4     7\n",
      "1     4     5     8\n",
      "3     4     7     0\n",
      "   index  col1  col2  col3\n",
      "0      0     1     4     7\n",
      "1      1     4     5     8\n",
      "2      3     4     7     0\n"
     ]
    }
   ],
   "source": [
    "#Exercise21\n",
    "df = df.drop([2,4], axis=0)\n",
    "print(df)\n",
    "df = df.reset_index()\n",
    "print(df)"
   ]
  }
 ],
 "metadata": {
  "interpreter": {
   "hash": "86a621efbc64b1a172edda153015bc6b7a63e2bb54bcf274ca8a4ea85e866d73"
  },
  "kernelspec": {
   "display_name": "Python 3.8.11 64-bit ('base': conda)",
   "language": "python",
   "name": "python3"
  },
  "language_info": {
   "codemirror_mode": {
    "name": "ipython",
    "version": 3
   },
   "file_extension": ".py",
   "mimetype": "text/x-python",
   "name": "python",
   "nbconvert_exporter": "python",
   "pygments_lexer": "ipython3",
   "version": "3.8.11"
  },
  "orig_nbformat": 4
 },
 "nbformat": 4,
 "nbformat_minor": 2
}
