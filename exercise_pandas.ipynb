{
 "cells": [
  {
   "cell_type": "code",
   "execution_count": 1,
   "metadata": {},
   "outputs": [
    {
     "name": "stdout",
     "output_type": "stream",
     "text": [
      "   Aのスコア  Bのスコア  Cのスコア\n",
      "0     78     84     86\n",
      "1     85     94     97\n",
      "2     96     89     96\n",
      "3     80     83     72\n",
      "4     86     86     83\n"
     ]
    }
   ],
   "source": [
    "\n",
    "#Exercise1\n",
    "import pandas as pd\n",
    "data = {'Aのスコア':[78,85,96,80,86],'Bのスコア':[84,94,89,83,86],'Cのスコア':[86,97,96,72,83]}\n",
    "df = pd.DataFrame(data)\n",
    "print(df)"
   ]
  },
  {
   "cell_type": "code",
   "execution_count": 2,
   "metadata": {},
   "outputs": [
    {
     "name": "stdout",
     "output_type": "stream",
     "text": [
      "   Aのスコア  Bのスコア  Cのスコア\n",
      "0     78     84     86\n",
      "1     85     94     97\n",
      "2     96     89     96\n",
      "   Aのスコア  Bのスコア  Cのスコア\n",
      "2     96     89     96\n",
      "3     80     83     72\n",
      "4     86     86     83\n",
      "(5, 3)\n"
     ]
    }
   ],
   "source": [
    "#Exercise2\n",
    "print(df.head(3))\n",
    "print(df.tail(3))\n",
    "print(df.shape)"
   ]
  },
  {
   "cell_type": "code",
   "execution_count": 3,
   "metadata": {},
   "outputs": [
    {
     "name": "stdout",
     "output_type": "stream",
     "text": [
      "            Aの得点  Bの得点  Cの得点\n",
      "PHP           78    84    86\n",
      "C++           85    94    97\n",
      "Python        96    89    96\n",
      "Java          80    83    72\n",
      "JavaScript    86    86    83\n"
     ]
    }
   ],
   "source": [
    "#Exercise3\n",
    "df.columns = ['Aの得点','Bの得点','Cの得点']\n",
    "df.index = ['PHP','C++','Python','Java','JavaScript']\n",
    "print(df)"
   ]
  },
  {
   "cell_type": "code",
   "execution_count": 52,
   "metadata": {},
   "outputs": [
    {
     "name": "stdout",
     "output_type": "stream",
     "text": [
      "    名前  訪問回数   スコア\n",
      "a  はなこ     1  12.5\n",
      "b  たろう     5   NaN\n",
      "c  じろう     3  16.5\n",
      "d  ひろし     3   9.0\n",
      "e  みゆき     2   NaN\n"
     ]
    }
   ],
   "source": [
    "#Exercise4\n",
    "import pandas as pd\n",
    "data = {\n",
    "    '名前':['はなこ','たろう','じろう','ひろし','みゆき'],\n",
    "    '訪問回数':[1, 5, 3, 3, 2],\n",
    "    'スコア':[12.5, None, 16.5, 9, None]\n",
    "}\n",
    "labels = ['a','b','c','d','e']\n",
    "df = pd.DataFrame(data, index=labels)\n",
    "print(df)"
   ]
  },
  {
   "cell_type": "code",
   "execution_count": 5,
   "metadata": {},
   "outputs": [
    {
     "name": "stdout",
     "output_type": "stream",
     "text": [
      "    名前   スコア\n",
      "a  はなこ  12.5\n",
      "b  たろう   NaN\n",
      "c  じろう  16.5\n",
      "d  ひろし   9.0\n",
      "e  みゆき   NaN\n"
     ]
    }
   ],
   "source": [
    "#Exercise5\n",
    "col = ['名前','スコア']\n",
    "print(df[col])"
   ]
  },
  {
   "cell_type": "code",
   "execution_count": 6,
   "metadata": {},
   "outputs": [
    {
     "name": "stdout",
     "output_type": "stream",
     "text": [
      "    名前  訪問回数   スコア\n",
      "b  たろう     5   NaN\n",
      "c  じろう     3  16.5\n",
      "d  ひろし     3   9.0\n"
     ]
    }
   ],
   "source": [
    "#Exercise6\n",
    "print(df[df['訪問回数'] > 2])\n",
    "#print(df[df.訪問回数 > 2])"
   ]
  },
  {
   "cell_type": "code",
   "execution_count": 7,
   "metadata": {},
   "outputs": [
    {
     "name": "stdout",
     "output_type": "stream",
     "text": [
      "    名前  訪問回数   スコア\n",
      "a  はなこ     1  12.5\n",
      "b  たろう     5   NaN\n",
      "c  じろう     3  16.5\n",
      "d  ひろし     3   9.0\n",
      "e  みゆき     2   NaN\n",
      "    名前  訪問回数  スコア\n",
      "d  ひろし     3  9.0\n"
     ]
    }
   ],
   "source": [
    "#Exercise7\n",
    "print(df)\n",
    "print(df[(df['訪問回数'] > 2) & (df['スコア'] < 10)])\n",
    "#print(df[(df.訪問回数 > 2) & (df.スコア < 10)])"
   ]
  },
  {
   "cell_type": "code",
   "execution_count": 8,
   "metadata": {},
   "outputs": [
    {
     "name": "stdout",
     "output_type": "stream",
     "text": [
      "    名前  訪問回数   スコア\n",
      "a  はなこ     1  12.5\n",
      "b  たろう     5   NaN\n",
      "c  じろう     3  16.5\n",
      "d  ひろし     3   9.0\n",
      "e  みゆき     2   NaN\n",
      "16.5\n"
     ]
    }
   ],
   "source": [
    "#Exercise8\n",
    "print(df)\n",
    "print(df.loc['c', 'スコア'])"
   ]
  },
  {
   "cell_type": "code",
   "execution_count": 9,
   "metadata": {},
   "outputs": [
    {
     "name": "stdout",
     "output_type": "stream",
     "text": [
      "    名前  訪問回数   スコア\n",
      "a  はなこ     1  12.5\n",
      "b  たろう     5   NaN\n",
      "c  じろう     3  16.5\n",
      "d  ひろし     3   9.0\n",
      "e  みゆき     2   NaN\n",
      "    名前  訪問回数\n",
      "a  はなこ     1\n",
      "b  たろう     5\n",
      "c  じろう     3\n"
     ]
    }
   ],
   "source": [
    "#Exercise9\n",
    "print(df)\n",
    "print(df.loc['a':'c', :'訪問回数'])"
   ]
  },
  {
   "cell_type": "code",
   "execution_count": 10,
   "metadata": {},
   "outputs": [
    {
     "name": "stdout",
     "output_type": "stream",
     "text": [
      "    名前  訪問回数   スコア\n",
      "a  はなこ     1  12.5\n",
      "b  たろう     5   NaN\n",
      "c  じろう     3  16.5\n",
      "d  ひろし     3   9.0\n",
      "e  みゆき     2   NaN\n",
      "f  たかし     4  10.5\n",
      "    名前  訪問回数   スコア\n",
      "a  はなこ     1  12.5\n",
      "b  たろう     5   NaN\n",
      "c  じろう     3  16.5\n",
      "d  ひろし     3   9.0\n",
      "e  みゆき     2   NaN\n"
     ]
    }
   ],
   "source": [
    "#Exercise10\n",
    "df.loc['f'] = ['たかし', 4, 10.5]\n",
    "print(df)\n",
    "df = df.drop('f')\n",
    "print(df)"
   ]
  },
  {
   "cell_type": "code",
   "execution_count": 11,
   "metadata": {},
   "outputs": [
    {
     "name": "stdout",
     "output_type": "stream",
     "text": [
      "    名前  訪問回数   スコア\n",
      "a  はなこ     1  12.5\n",
      "b  たろう     5   NaN\n",
      "c  じろう     3  16.5\n",
      "d  ひろし     3   9.0\n",
      "e  みゆき     2   NaN\n",
      "[1 5 3 2]\n",
      "3    2\n",
      "5    1\n",
      "2    1\n",
      "1    1\n",
      "Name: 訪問回数, dtype: int64\n"
     ]
    }
   ],
   "source": [
    "#Exercise11\n",
    "print(df)\n",
    "print(df['訪問回数'].unique())\n",
    "print(df['訪問回数'].value_counts())"
   ]
  },
  {
   "cell_type": "code",
   "execution_count": 12,
   "metadata": {},
   "outputs": [
    {
     "name": "stdout",
     "output_type": "stream",
     "text": [
      "    名前  訪問回数   スコア\n",
      "a  はなこ     1  12.5\n",
      "b  たろう     5   NaN\n",
      "c  じろう     3  16.5\n",
      "d  ひろし     3   9.0\n",
      "e  みゆき     2   NaN\n",
      "名前      False\n",
      "訪問回数    False\n",
      "スコア      True\n",
      "dtype: bool\n"
     ]
    }
   ],
   "source": [
    "#Exercise12\n",
    "print(df)\n",
    "print(df.isnull().any(axis=0))"
   ]
  },
  {
   "cell_type": "code",
   "execution_count": 13,
   "metadata": {},
   "outputs": [
    {
     "name": "stdout",
     "output_type": "stream",
     "text": [
      "    名前  訪問回数   スコア\n",
      "a  はなこ     1  12.5\n",
      "b  たろう     5   NaN\n",
      "c  じろう     3  16.5\n",
      "d  ひろし     3   9.0\n",
      "e  みゆき     2   NaN\n",
      "名前      0\n",
      "訪問回数    0\n",
      "スコア     2\n",
      "dtype: int64\n"
     ]
    }
   ],
   "source": [
    "#Exercise13\n",
    "print(df)\n",
    "print(df.isnull().sum())"
   ]
  },
  {
   "cell_type": "code",
   "execution_count": 14,
   "metadata": {},
   "outputs": [
    {
     "name": "stdout",
     "output_type": "stream",
     "text": [
      "    名前  訪問回数   スコア\n",
      "a  はなこ     1  12.5\n",
      "b  たろう     5   NaN\n",
      "c  じろう     3  16.5\n",
      "d  ひろし     3   9.0\n",
      "e  みゆき     2   NaN\n",
      "    名前  訪問回数  スコア\n",
      "b  たろう     5  NaN\n",
      "e  みゆき     2  NaN\n"
     ]
    }
   ],
   "source": [
    "#Exercise14\n",
    "print(df)\n",
    "print(df[df['スコア'].isnull()])"
   ]
  },
  {
   "cell_type": "code",
   "execution_count": 15,
   "metadata": {},
   "outputs": [
    {
     "name": "stdout",
     "output_type": "stream",
     "text": [
      "    名前  訪問回数   スコア\n",
      "a  はなこ     1  12.5\n",
      "b  たろう     5   NaN\n",
      "c  じろう     3  16.5\n",
      "d  ひろし     3   9.0\n",
      "e  みゆき     2   NaN\n",
      "    名前  訪問回数   スコア\n",
      "a  はなこ     1  12.5\n",
      "c  じろう     3  16.5\n",
      "d  ひろし     3   9.0\n"
     ]
    }
   ],
   "source": [
    "#Exercise15\n",
    "df2 = df.dropna(how='any', axis=0)\n",
    "print(df)\n",
    "print(df2)"
   ]
  },
  {
   "cell_type": "code",
   "execution_count": 16,
   "metadata": {},
   "outputs": [
    {
     "name": "stdout",
     "output_type": "stream",
     "text": [
      "    名前  訪問回数   スコア\n",
      "a  はなこ     1  12.5\n",
      "b  たろう     5   NaN\n",
      "c  じろう     3  16.5\n",
      "d  ひろし     3   9.0\n",
      "e  みゆき     2   NaN\n",
      "    名前  訪問回数        スコア\n",
      "a  はなこ     1  12.500000\n",
      "b  たろう     5  12.666667\n",
      "c  じろう     3  16.500000\n",
      "d  ひろし     3   9.000000\n",
      "e  みゆき     2  12.666667\n"
     ]
    }
   ],
   "source": [
    "#Exercise16\n",
    "colmean = df.mean()\n",
    "df2 = df.fillna(colmean)\n",
    "print(df)\n",
    "print(df2)"
   ]
  },
  {
   "cell_type": "code",
   "execution_count": 17,
   "metadata": {},
   "outputs": [
    {
     "name": "stdout",
     "output_type": "stream",
     "text": [
      "    名前  訪問回数        スコア\n",
      "a  はなこ     1  12.500000\n",
      "b  たろう     5  12.666667\n",
      "c  じろう     3  16.500000\n",
      "d  ひろし     3   9.000000\n",
      "e  みゆき     2  12.666667\n",
      "a    12\n",
      "b    12\n",
      "c    16\n",
      "d     9\n",
      "e    12\n",
      "Name: スコア, dtype: int64\n"
     ]
    }
   ],
   "source": [
    "#Exercise17\n",
    "print(df2)\n",
    "print(df2['スコア'].map(int))"
   ]
  },
  {
   "cell_type": "code",
   "execution_count": 18,
   "metadata": {},
   "outputs": [
    {
     "name": "stdout",
     "output_type": "stream",
     "text": [
      "    名前  訪問回数   スコア\n",
      "a  はなこ     1  12.5\n",
      "b  たろう     5   NaN\n",
      "c  じろう     3  16.5\n",
      "d  ひろし     3   9.0\n",
      "e  みゆき     2   NaN\n",
      "    名前  訪問回数   スコア\n",
      "b  たろう     5   NaN\n",
      "c  じろう     3  16.5\n",
      "d  ひろし     3   9.0\n",
      "e  みゆき     2   NaN\n",
      "a  はなこ     1  12.5\n"
     ]
    }
   ],
   "source": [
    "#Exercise18\n",
    "print(df)\n",
    "df2 = df.sort_values(by='訪問回数', ascending=False)\n",
    "print(df2)"
   ]
  },
  {
   "cell_type": "code",
   "execution_count": 19,
   "metadata": {},
   "outputs": [
    {
     "name": "stdout",
     "output_type": "stream",
     "text": [
      "    名前  訪問回数   スコア   資格\n",
      "a  はなこ     1  12.5  yes\n",
      "b  たろう     5   NaN  yes\n",
      "c  じろう     3  16.5   no\n",
      "d  ひろし     3   9.0  yes\n",
      "e  みゆき     2   NaN   no\n",
      "    名前  訪問回数   スコア\n",
      "a  はなこ     1  12.5\n",
      "b  たろう     5   NaN\n",
      "c  じろう     3  16.5\n",
      "d  ひろし     3   9.0\n",
      "e  みゆき     2   NaN\n"
     ]
    }
   ],
   "source": [
    "#Exercise19\n",
    "qualify = ['yes','yes','no','yes','no']\n",
    "df['資格'] = qualify\n",
    "print(df)\n",
    "df2 = df.drop('資格', axis=1)\n",
    "print(df2)"
   ]
  },
  {
   "cell_type": "code",
   "execution_count": 20,
   "metadata": {},
   "outputs": [
    {
     "name": "stdout",
     "output_type": "stream",
     "text": [
      "0    4\n",
      "2    6\n",
      "4    8\n",
      "Name: col2, dtype: int64\n"
     ]
    }
   ],
   "source": [
    "#Exercise20\n",
    "import pandas as pd\n",
    "data = {'col1': [1,4,3,4,5], 'col2': [4,5,6,7,8], 'col3': [7,8,9,0,1]}\n",
    "df = pd.DataFrame(data)\n",
    "print(df.loc[df.col2%2==0, 'col2'])"
   ]
  },
  {
   "cell_type": "code",
   "execution_count": 21,
   "metadata": {},
   "outputs": [
    {
     "name": "stdout",
     "output_type": "stream",
     "text": [
      "   col1  col2  col3\n",
      "0     1     4     7\n",
      "1     4     5     8\n",
      "2     3     6     9\n",
      "3     4     7     0\n",
      "4     5     8     1\n"
     ]
    }
   ],
   "source": [
    "#Exercise21\n",
    "df.to_csv('new_file.csv', index=False)\n",
    "df2 = pd.read_csv('new_file.csv')\n",
    "print(df2)"
   ]
  },
  {
   "cell_type": "code",
   "execution_count": 22,
   "metadata": {},
   "outputs": [
    {
     "name": "stdout",
     "output_type": "stream",
     "text": [
      "   col1  col2  col3\n",
      "0     1     4     7\n",
      "1     4     5     8\n",
      "2     3     6     9\n",
      "3     4     7     0\n",
      "4     5     8     1\n",
      "   index  col1  col2  col3\n",
      "0      0     1     4     7\n",
      "1      1     4     5     8\n",
      "2      3     4     7     0\n"
     ]
    }
   ],
   "source": [
    "#Exercise22\n",
    "df2 = df.drop([2,4], axis=0)\n",
    "df2 = df2.reset_index()\n",
    "print(df)\n",
    "print(df2)"
   ]
  },
  {
   "cell_type": "code",
   "execution_count": 23,
   "metadata": {},
   "outputs": [
    {
     "data": {
      "text/html": [
       "<div>\n",
       "<style scoped>\n",
       "    .dataframe tbody tr th:only-of-type {\n",
       "        vertical-align: middle;\n",
       "    }\n",
       "\n",
       "    .dataframe tbody tr th {\n",
       "        vertical-align: top;\n",
       "    }\n",
       "\n",
       "    .dataframe thead th {\n",
       "        text-align: right;\n",
       "    }\n",
       "</style>\n",
       "<table border=\"1\" class=\"dataframe\">\n",
       "  <thead>\n",
       "    <tr style=\"text-align: right;\">\n",
       "      <th></th>\n",
       "      <th>col1</th>\n",
       "      <th>col2</th>\n",
       "      <th>col3</th>\n",
       "      <th>name</th>\n",
       "    </tr>\n",
       "  </thead>\n",
       "  <tbody>\n",
       "    <tr>\n",
       "      <th>0</th>\n",
       "      <td>1</td>\n",
       "      <td>4</td>\n",
       "      <td>7</td>\n",
       "      <td>Tom</td>\n",
       "    </tr>\n",
       "    <tr>\n",
       "      <th>1</th>\n",
       "      <td>4</td>\n",
       "      <td>5</td>\n",
       "      <td>8</td>\n",
       "      <td>James</td>\n",
       "    </tr>\n",
       "    <tr>\n",
       "      <th>2</th>\n",
       "      <td>3</td>\n",
       "      <td>6</td>\n",
       "      <td>9</td>\n",
       "      <td>Emily</td>\n",
       "    </tr>\n",
       "    <tr>\n",
       "      <th>3</th>\n",
       "      <td>4</td>\n",
       "      <td>7</td>\n",
       "      <td>0</td>\n",
       "      <td>Michael</td>\n",
       "    </tr>\n",
       "    <tr>\n",
       "      <th>4</th>\n",
       "      <td>5</td>\n",
       "      <td>8</td>\n",
       "      <td>1</td>\n",
       "      <td>Laura</td>\n",
       "    </tr>\n",
       "  </tbody>\n",
       "</table>\n",
       "</div>"
      ],
      "text/plain": [
       "   col1  col2  col3     name\n",
       "0     1     4     7      Tom\n",
       "1     4     5     8    James\n",
       "2     3     6     9    Emily\n",
       "3     4     7     0  Michael\n",
       "4     5     8     1    Laura"
      ]
     },
     "execution_count": 23,
     "metadata": {},
     "output_type": "execute_result"
    }
   ],
   "source": [
    "#Exercise23\n",
    "tmp = {'name':['Tom','James','Emily','Michael','Laura']}\n",
    "df_tmp = pd.DataFrame(tmp)\n",
    "df2 = pd.concat([df,df_tmp], axis=1)\n",
    "df2"
   ]
  },
  {
   "cell_type": "code",
   "execution_count": 47,
   "metadata": {},
   "outputs": [
    {
     "name": "stdout",
     "output_type": "stream",
     "text": [
      "          0   1\n",
      "Tom      20  TX\n",
      "James    32  WA\n",
      "Emily    19  CA\n",
      "Michael  45  NY\n",
      "Laura    26  FL\n"
     ]
    }
   ],
   "source": [
    "#Exercise24\n",
    "tmp1 = pd.Series({'Tom':20,'James':32,'Emily':19,'Michael':45,'Laura':26})\n",
    "tmp2 = pd.Series({'Michael':'NY','Emily':'CA','Tom':'TX','Laura':'FL','James':'WA'})\n",
    "\n",
    "tmp_df = pd.concat([tmp1,tmp2], axis=1)\n",
    "print(tmp_df)"
   ]
  },
  {
   "cell_type": "code",
   "execution_count": 31,
   "metadata": {},
   "outputs": [
    {
     "name": "stdout",
     "output_type": "stream",
     "text": [
      "          col1  col2\n",
      "language            \n",
      "Java      43.4  61.2\n",
      "PHP       51.8  41.0\n",
      "Python    45.0  37.6\n"
     ]
    }
   ],
   "source": [
    "#Exercise25\n",
    "import pandas as pd\n",
    "import numpy as np\n",
    "data = {\n",
    "    'language':['Python','Java','PHP','PHP','Python','Java','PHP','Python','Java','Python','Java','Java','PHP','Python','PHP'],\n",
    "}\n",
    "data['col1'] = np.random.randint(1,100,15)\n",
    "data['col2'] = np.random.randint(1,100,15)\n",
    "\n",
    "df = pd.DataFrame(data)\n",
    "tmp = df.groupby(['language']).mean()\n",
    "print(tmp)"
   ]
  },
  {
   "cell_type": "code",
   "execution_count": 42,
   "metadata": {},
   "outputs": [
    {
     "name": "stdout",
     "output_type": "stream",
     "text": [
      "   language  col1  col2 class\n",
      "0    Python    23    98     A\n",
      "1      Java     3    99     A\n",
      "2       PHP    82    64     A\n",
      "3       PHP    10    51     B\n",
      "4    Python    19     8     B\n",
      "5      Java     3    51     B\n",
      "6       PHP    57    35     C\n",
      "7    Python    77    52     C\n",
      "8      Java    57    12     C\n",
      "9    Python    10    16     A\n",
      "10     Java    59    94     A\n",
      "11     Java    95    50     B\n",
      "12      PHP    23    18     A\n",
      "13   Python    96    14     B\n",
      "14      PHP    87    37     B\n",
      "class        A     B     C\n",
      "language                  \n",
      "Java      31.0  49.0  57.0\n",
      "PHP       52.5  48.5  57.0\n",
      "Python    16.5  57.5  77.0\n"
     ]
    },
    {
     "data": {
      "text/plain": [
       "<AxesSubplot:xlabel='language'>"
      ]
     },
     "execution_count": 42,
     "metadata": {},
     "output_type": "execute_result"
    },
    {
     "data": {
      "image/png": "[encoded data removed]",
      "text/plain": [
       "<Figure size 432x288 with 1 Axes>"
      ]
     },
     "metadata": {
      "needs_background": "light"
     },
     "output_type": "display_data"
    }
   ],
   "source": [
    "#Exercise26\n",
    "tmp = {'class':['A','A','A','B','B','B','C','C','C','A','A','B','A','B','B']}\n",
    "df_tmp = pd.DataFrame(tmp)\n",
    "df2 = pd.concat([df,df_tmp], axis=1)\n",
    "print(df2)\n",
    "df3 = pd.pivot_table(df2, index='language', columns='class', values='col1')\n",
    "print(df3)\n",
    "df3.plot(kind='bar')"
   ]
  },
  {
   "cell_type": "code",
   "execution_count": 26,
   "metadata": {},
   "outputs": [
    {
     "name": "stdout",
     "output_type": "stream",
     "text": [
      "class      A   B   C\n",
      "language            \n",
      "Java      94  93  96\n",
      "PHP       34  89  71\n",
      "Python    88  85  98\n"
     ]
    }
   ],
   "source": [
    "#Exercise27\n",
    "print(pd.pivot_table(df2, index='language', columns='class', values='col1', aggfunc=max))"
   ]
  }
 ],
 "metadata": {
  "interpreter": {
   "hash": "86a621efbc64b1a172edda153015bc6b7a63e2bb54bcf274ca8a4ea85e866d73"
  },
  "kernelspec": {
   "display_name": "Python 3.8.11 64-bit ('base': conda)",
   "language": "python",
   "name": "python3"
  },
  "language_info": {
   "codemirror_mode": {
    "name": "ipython",
    "version": 3
   },
   "file_extension": ".py",
   "mimetype": "text/x-python",
   "name": "python",
   "nbconvert_exporter": "python",
   "pygments_lexer": "ipython3",
   "version": "3.8.5"
  },
  "orig_nbformat": 4
 },
 "nbformat": 4,
 "nbformat_minor": 2
}
